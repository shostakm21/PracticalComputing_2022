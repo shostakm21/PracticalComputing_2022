{
  "nbformat": 4,
  "nbformat_minor": 0,
  "metadata": {
    "colab": {
      "provenance": [],
      "toc_visible": true,
      "mount_file_id": "https://github.com/shostakm21/PracticalComputing_2022/blob/master/PracComp2022.ipynb",
      "authorship_tag": "ABX9TyMhJGs3soWv0H4xCGAZA/JI",
      "include_colab_link": true
    },
    "kernelspec": {
      "name": "python3",
      "display_name": "Python 3"
    },
    "language_info": {
      "name": "python"
    }
  },
  "cells": [
    {
      "cell_type": "markdown",
      "metadata": {
        "id": "view-in-github",
        "colab_type": "text"
      },
      "source": [
        "<a href=\"https://colab.research.google.com/github/shostakm21/PracticalComputing_2022/blob/master/PracComp2022.ipynb\" target=\"_parent\"><img src=\"https://colab.research.google.com/assets/colab-badge.svg\" alt=\"Open In Colab\"/></a>"
      ]
    },
    {
      "cell_type": "markdown",
      "source": [
        "# Basics\n"
      ],
      "metadata": {
        "id": "cv-WaLHX7gVd"
      }
    },
    {
      "cell_type": "markdown",
      "source": [
        "## Markdown Cont'd"
      ],
      "metadata": {
        "id": "b05_Vq8W73-8"
      }
    },
    {
      "cell_type": "markdown",
      "source": [
        "* Uses asterices to create bullet points (unordered) lists\n",
        "\n",
        "1. Use numbers to create ordered lists\n",
        "\n",
        "*Top level\n",
        "  * Indent 1\n",
        "    * Indent 1a\n",
        "\n",
        "Line \n",
        "breaks \n",
        "dont \n",
        "matter\n",
        "But _blank lines_ create new paragraphs\n",
        "\n",
        "[Field Lab](http://www.efieldlab.com)"
      ],
      "metadata": {
        "id": "JBUHEh3-8A_f"
      }
    },
    {
      "cell_type": "markdown",
      "source": [
        "## Python Basics"
      ],
      "metadata": {
        "id": "VAK_uZTg88io"
      }
    },
    {
      "cell_type": "markdown",
      "source": [
        "## Putting a hash mark in front of a command will turn it off (not run it)"
      ],
      "metadata": {
        "id": "HgRffZBN-8He"
      }
    },
    {
      "cell_type": "markdown",
      "source": [
        "## Variables\n",
        "\n",
        "First you must declare you variable."
      ],
      "metadata": {
        "id": "mffWb6948-7F"
      }
    },
    {
      "cell_type": "code",
      "source": [
        "myage = 25\n",
        "given_name = \"Maggie\"\n",
        "family_name = \"Shostak\""
      ],
      "metadata": {
        "id": "-BSeGq-C9Bjg"
      },
      "execution_count": null,
      "outputs": []
    },
    {
      "cell_type": "code",
      "source": [
        "print(given_name, \"is\", myage, \"years old\")"
      ],
      "metadata": {
        "colab": {
          "base_uri": "https://localhost:8080/"
        },
        "id": "XX3f4Mj592Pf",
        "outputId": "88ef8f2d-455a-460b-a981-81dedb9da56e"
      },
      "execution_count": null,
      "outputs": [
        {
          "output_type": "stream",
          "name": "stdout",
          "text": [
            "Maggie is 25 years old\n"
          ]
        }
      ]
    },
    {
      "cell_type": "markdown",
      "source": [
        "## Objects: Strings vs Integers"
      ],
      "metadata": {
        "id": "zt7DS2baAEQQ"
      }
    },
    {
      "cell_type": "code",
      "source": [
        "#type(myage)\n",
        "#type(given_name)\n",
        "\n",
        "print(type(myage), type(given_name))"
      ],
      "metadata": {
        "colab": {
          "base_uri": "https://localhost:8080/"
        },
        "id": "uur5LPeq-e2F",
        "outputId": "2cc57b40-3d73-4db0-b913-fc46e68dad73"
      },
      "execution_count": null,
      "outputs": [
        {
          "output_type": "stream",
          "name": "stdout",
          "text": [
            "<class 'int'> <class 'str'>\n"
          ]
        }
      ]
    },
    {
      "cell_type": "markdown",
      "source": [
        "We can change the type of the variable by defining it as such"
      ],
      "metadata": {
        "id": "f7dZpSBJ_G-i"
      }
    },
    {
      "cell_type": "code",
      "source": [
        "myage_str = str(myage)\n",
        "\n",
        "type(myage_str)"
      ],
      "metadata": {
        "colab": {
          "base_uri": "https://localhost:8080/"
        },
        "id": "PSj6GTdR_JCF",
        "outputId": "cf69ad20-2cef-4918-ab16-1228e8673e17"
      },
      "execution_count": null,
      "outputs": [
        {
          "output_type": "execute_result",
          "data": {
            "text/plain": [
              "str"
            ]
          },
          "metadata": {},
          "execution_count": 10
        }
      ]
    },
    {
      "cell_type": "code",
      "source": [
        "print(myage + 1)"
      ],
      "metadata": {
        "colab": {
          "base_uri": "https://localhost:8080/"
        },
        "id": "v-04hLD__YFd",
        "outputId": "6e7f3dcb-4e0d-4f53-82a1-92cde043990d"
      },
      "execution_count": null,
      "outputs": [
        {
          "output_type": "stream",
          "name": "stdout",
          "text": [
            "26\n"
          ]
        }
      ]
    },
    {
      "cell_type": "code",
      "source": [
        "print(myage + myage)"
      ],
      "metadata": {
        "colab": {
          "base_uri": "https://localhost:8080/"
        },
        "id": "2w_y1UUq_dSq",
        "outputId": "e0840098-8cb8-4c9a-c5f4-dc644a5d57f4"
      },
      "execution_count": null,
      "outputs": [
        {
          "output_type": "stream",
          "name": "stdout",
          "text": [
            "50\n"
          ]
        }
      ]
    },
    {
      "cell_type": "code",
      "source": [
        "print(myage_str + myage_str)"
      ],
      "metadata": {
        "colab": {
          "base_uri": "https://localhost:8080/"
        },
        "id": "o-dxPeGF_zkB",
        "outputId": "0837a16d-a3a2-453a-fd38-a762225dcdad"
      },
      "execution_count": null,
      "outputs": [
        {
          "output_type": "stream",
          "name": "stdout",
          "text": [
            "2525\n"
          ]
        }
      ]
    },
    {
      "cell_type": "markdown",
      "source": [
        "## You can index you strings in python.\n",
        "\n",
        "**_Python starts counting at zero!_**"
      ],
      "metadata": {
        "id": "rAcfT3CM_8tH"
      }
    },
    {
      "cell_type": "code",
      "source": [
        "given_name[1]"
      ],
      "metadata": {
        "colab": {
          "base_uri": "https://localhost:8080/",
          "height": 37
        },
        "id": "yIAL1qTx_7_J",
        "outputId": "c683c73e-821d-4f34-b800-c222d29677fd"
      },
      "execution_count": null,
      "outputs": [
        {
          "output_type": "execute_result",
          "data": {
            "text/plain": [
              "'a'"
            ],
            "application/vnd.google.colaboratory.intrinsic+json": {
              "type": "string"
            }
          },
          "metadata": {},
          "execution_count": 15
        }
      ]
    },
    {
      "cell_type": "code",
      "source": [
        "given_name[0]"
      ],
      "metadata": {
        "colab": {
          "base_uri": "https://localhost:8080/",
          "height": 37
        },
        "id": "Td9X7IcAAY1Y",
        "outputId": "eb45385c-e57c-4d12-bdc8-7eec3ea103d0"
      },
      "execution_count": null,
      "outputs": [
        {
          "output_type": "execute_result",
          "data": {
            "text/plain": [
              "'M'"
            ],
            "application/vnd.google.colaboratory.intrinsic+json": {
              "type": "string"
            }
          },
          "metadata": {},
          "execution_count": 16
        }
      ]
    },
    {
      "cell_type": "code",
      "source": [
        "given_name[2:4]"
      ],
      "metadata": {
        "colab": {
          "base_uri": "https://localhost:8080/",
          "height": 37
        },
        "id": "0KI97KCiAbyb",
        "outputId": "6776f1b0-c387-47c4-d1be-9f3e54563050"
      },
      "execution_count": null,
      "outputs": [
        {
          "output_type": "execute_result",
          "data": {
            "text/plain": [
              "'gg'"
            ],
            "application/vnd.google.colaboratory.intrinsic+json": {
              "type": "string"
            }
          },
          "metadata": {},
          "execution_count": 17
        }
      ]
    },
    {
      "cell_type": "code",
      "source": [
        "given_name[0:5]"
      ],
      "metadata": {
        "colab": {
          "base_uri": "https://localhost:8080/",
          "height": 37
        },
        "id": "0WhNwNGfAf24",
        "outputId": "818f178b-a05d-4113-afd1-1b349af26710"
      },
      "execution_count": null,
      "outputs": [
        {
          "output_type": "execute_result",
          "data": {
            "text/plain": [
              "'Maggi'"
            ],
            "application/vnd.google.colaboratory.intrinsic+json": {
              "type": "string"
            }
          },
          "metadata": {},
          "execution_count": 18
        }
      ]
    },
    {
      "cell_type": "code",
      "source": [
        "given_name[1:]"
      ],
      "metadata": {
        "colab": {
          "base_uri": "https://localhost:8080/",
          "height": 37
        },
        "id": "0gSJtesJAwjT",
        "outputId": "b1e8be24-59f4-4e2b-f0eb-983b9f2d782c"
      },
      "execution_count": null,
      "outputs": [
        {
          "output_type": "execute_result",
          "data": {
            "text/plain": [
              "'aggie'"
            ],
            "application/vnd.google.colaboratory.intrinsic+json": {
              "type": "string"
            }
          },
          "metadata": {},
          "execution_count": 19
        }
      ]
    },
    {
      "cell_type": "markdown",
      "source": [
        "### How to determine length of string **_(it does not start counting at zero)_**"
      ],
      "metadata": {
        "id": "_aXQzX_6A1eF"
      }
    },
    {
      "cell_type": "code",
      "source": [
        "len(given_name)"
      ],
      "metadata": {
        "colab": {
          "base_uri": "https://localhost:8080/"
        },
        "id": "eQypclsQA0Jz",
        "outputId": "47cf22cd-0739-435e-c32c-0d9509df231b"
      },
      "execution_count": null,
      "outputs": [
        {
          "output_type": "execute_result",
          "data": {
            "text/plain": [
              "6"
            ]
          },
          "metadata": {},
          "execution_count": 20
        }
      ]
    },
    {
      "cell_type": "markdown",
      "source": [
        "## Math: Integers vs Floats\n",
        "Floats have decimal places"
      ],
      "metadata": {
        "id": "TEWO4TFXBCQK"
      }
    },
    {
      "cell_type": "code",
      "source": [
        "print(myage)"
      ],
      "metadata": {
        "colab": {
          "base_uri": "https://localhost:8080/"
        },
        "id": "0OUgIfa3BA3H",
        "outputId": "e9297189-c347-4ac1-fcff-edb7247b2cae"
      },
      "execution_count": null,
      "outputs": [
        {
          "output_type": "stream",
          "name": "stdout",
          "text": [
            "25\n"
          ]
        }
      ]
    },
    {
      "cell_type": "code",
      "source": [
        "myage/4"
      ],
      "metadata": {
        "colab": {
          "base_uri": "https://localhost:8080/"
        },
        "id": "M7KGJaYgBJy9",
        "outputId": "1a3253cc-51d9-47c1-99cb-d138d4593c93"
      },
      "execution_count": null,
      "outputs": [
        {
          "output_type": "execute_result",
          "data": {
            "text/plain": [
              "6.25"
            ]
          },
          "metadata": {},
          "execution_count": 22
        }
      ]
    },
    {
      "cell_type": "code",
      "source": [
        "type(myage/4)"
      ],
      "metadata": {
        "colab": {
          "base_uri": "https://localhost:8080/"
        },
        "id": "-52MUf5yBRIB",
        "outputId": "a4beb62e-2b02-42bf-d730-18eec698caf3"
      },
      "execution_count": null,
      "outputs": [
        {
          "output_type": "execute_result",
          "data": {
            "text/plain": [
              "float"
            ]
          },
          "metadata": {},
          "execution_count": 23
        }
      ]
    },
    {
      "cell_type": "code",
      "source": [
        "float(myage)"
      ],
      "metadata": {
        "colab": {
          "base_uri": "https://localhost:8080/"
        },
        "id": "ZScqGKFrBWY7",
        "outputId": "f0aa6b51-5987-4940-f2b1-b27dc8f27fdb"
      },
      "execution_count": null,
      "outputs": [
        {
          "output_type": "execute_result",
          "data": {
            "text/plain": [
              "25.0"
            ]
          },
          "metadata": {},
          "execution_count": 24
        }
      ]
    },
    {
      "cell_type": "code",
      "source": [
        "myage + float(myage)"
      ],
      "metadata": {
        "colab": {
          "base_uri": "https://localhost:8080/"
        },
        "id": "SZlSjt9FBnyb",
        "outputId": "de64420b-ed62-4610-83bf-d8d2576934d5"
      },
      "execution_count": null,
      "outputs": [
        {
          "output_type": "execute_result",
          "data": {
            "text/plain": [
              "50.0"
            ]
          },
          "metadata": {},
          "execution_count": 25
        }
      ]
    },
    {
      "cell_type": "markdown",
      "source": [
        "## Basics Wrap-up"
      ],
      "metadata": {
        "id": "4Q4Oh7q3BuRX"
      }
    },
    {
      "cell_type": "code",
      "source": [
        "full_name_age = given_name+ 'O' +family_name+ 'is my full name, and I am' +str(myage)+ 'years old'"
      ],
      "metadata": {
        "id": "MLwz9LlIBx7R"
      },
      "execution_count": null,
      "outputs": []
    },
    {
      "cell_type": "code",
      "source": [
        "print(full_name_age)"
      ],
      "metadata": {
        "colab": {
          "base_uri": "https://localhost:8080/"
        },
        "id": "IGTteSrYCie6",
        "outputId": "c60637a7-c55e-460b-ee56-d98cdef9309b"
      },
      "execution_count": null,
      "outputs": [
        {
          "output_type": "stream",
          "name": "stdout",
          "text": [
            "MaggieOShostakis my full name, and I am25years old\n"
          ]
        }
      ]
    },
    {
      "cell_type": "markdown",
      "source": [
        "This error results because you have characters & integers together: \n",
        "\n",
        "**_TypeError                                 Traceback (most recent call last)\n",
        "<ipython-input-29-6a14459cc019> in <module>\n",
        "----> 1 full_name_age = given_name+ \"O\" +family_name+ \"is my full name, and I am\" +myage+ \"years old\"_**\n",
        "\n",
        "TypeError: can only concatenate str (not \"int\") to str"
      ],
      "metadata": {
        "id": "LQGrny_KCYlg"
      }
    },
    {
      "cell_type": "markdown",
      "source": [
        "## Math in Python"
      ],
      "metadata": {
        "id": "qEZY5RYDDrZv"
      }
    },
    {
      "cell_type": "code",
      "source": [
        "6/2"
      ],
      "metadata": {
        "colab": {
          "base_uri": "https://localhost:8080/"
        },
        "id": "_UWdMiBUDrGJ",
        "outputId": "cb5f8a96-777b-45bd-8693-77d69924b269"
      },
      "execution_count": null,
      "outputs": [
        {
          "output_type": "execute_result",
          "data": {
            "text/plain": [
              "3.0"
            ]
          },
          "metadata": {},
          "execution_count": 36
        }
      ]
    },
    {
      "cell_type": "code",
      "source": [
        "5/2"
      ],
      "metadata": {
        "colab": {
          "base_uri": "https://localhost:8080/"
        },
        "id": "0-lPT6qHDzBw",
        "outputId": "37a1d98b-3acd-4edd-8be5-4359647e83a4"
      },
      "execution_count": null,
      "outputs": [
        {
          "output_type": "execute_result",
          "data": {
            "text/plain": [
              "2.5"
            ]
          },
          "metadata": {},
          "execution_count": 37
        }
      ]
    },
    {
      "cell_type": "markdown",
      "source": [
        "To round a number, use a double backslash (//)"
      ],
      "metadata": {
        "id": "2E9dcyciEWAv"
      }
    },
    {
      "cell_type": "code",
      "source": [
        "5//2"
      ],
      "metadata": {
        "colab": {
          "base_uri": "https://localhost:8080/"
        },
        "id": "0QtNXHkfEM9D",
        "outputId": "ac54b45a-e432-421d-d59c-65b0eaba1f03"
      },
      "execution_count": null,
      "outputs": [
        {
          "output_type": "execute_result",
          "data": {
            "text/plain": [
              "2"
            ]
          },
          "metadata": {},
          "execution_count": 39
        }
      ]
    },
    {
      "cell_type": "code",
      "source": [
        "print(type(5/2), type(5//2))"
      ],
      "metadata": {
        "colab": {
          "base_uri": "https://localhost:8080/"
        },
        "id": "569iFCU1EH9R",
        "outputId": "6b56b382-21f3-4aa1-ca81-7d9d02920e92"
      },
      "execution_count": null,
      "outputs": [
        {
          "output_type": "stream",
          "name": "stdout",
          "text": [
            "<class 'float'> <class 'int'>\n"
          ]
        }
      ]
    },
    {
      "cell_type": "markdown",
      "source": [
        "Putting a hash (#) after a command, then it will ignore anything after it."
      ],
      "metadata": {
        "id": "-NwqhxsUEaJn"
      }
    },
    {
      "cell_type": "code",
      "source": [
        "2*2"
      ],
      "metadata": {
        "colab": {
          "base_uri": "https://localhost:8080/"
        },
        "id": "dZq4nSgrE2K0",
        "outputId": "2ad383d4-2a60-4d8b-a03f-4c3df47e8e81"
      },
      "execution_count": null,
      "outputs": [
        {
          "output_type": "execute_result",
          "data": {
            "text/plain": [
              "4"
            ]
          },
          "metadata": {},
          "execution_count": 40
        }
      ]
    },
    {
      "cell_type": "markdown",
      "source": [
        "### Built-in Summary Tools"
      ],
      "metadata": {
        "id": "-0CQHDZxE5ao"
      }
    },
    {
      "cell_type": "code",
      "source": [
        "nums = (3,1,4,2,5)\n",
        "type(nums)"
      ],
      "metadata": {
        "colab": {
          "base_uri": "https://localhost:8080/"
        },
        "id": "0YYm4xyCE38G",
        "outputId": "1b20c7f6-80dc-4109-9d22-b3dabde1d16c"
      },
      "execution_count": null,
      "outputs": [
        {
          "output_type": "execute_result",
          "data": {
            "text/plain": [
              "tuple"
            ]
          },
          "metadata": {},
          "execution_count": 1
        }
      ]
    },
    {
      "cell_type": "code",
      "source": [
        "max(nums)"
      ],
      "metadata": {
        "colab": {
          "base_uri": "https://localhost:8080/"
        },
        "id": "A98ZEErDFFX_",
        "outputId": "9b61211f-7f6c-4862-82b4-83382faedac8"
      },
      "execution_count": null,
      "outputs": [
        {
          "output_type": "execute_result",
          "data": {
            "text/plain": [
              "5"
            ]
          },
          "metadata": {},
          "execution_count": 2
        }
      ]
    },
    {
      "cell_type": "code",
      "source": [
        "min(nums)"
      ],
      "metadata": {
        "colab": {
          "base_uri": "https://localhost:8080/"
        },
        "id": "mLa_hsZIFHRY",
        "outputId": "c21dd9a9-7938-48ba-cb01-8fd03e8f0f99"
      },
      "execution_count": null,
      "outputs": [
        {
          "output_type": "execute_result",
          "data": {
            "text/plain": [
              "1"
            ]
          },
          "metadata": {},
          "execution_count": 3
        }
      ]
    },
    {
      "cell_type": "code",
      "source": [
        "pi=3.14159\n",
        "print(pi)"
      ],
      "metadata": {
        "colab": {
          "base_uri": "https://localhost:8080/"
        },
        "id": "F7gQWBITFRT2",
        "outputId": "67186f3f-52bf-4829-ea8c-f9f18ab1cc6c"
      },
      "execution_count": null,
      "outputs": [
        {
          "output_type": "stream",
          "name": "stdout",
          "text": [
            "3.14159\n"
          ]
        }
      ]
    },
    {
      "cell_type": "code",
      "source": [
        "round(pi, ndigits=2)"
      ],
      "metadata": {
        "colab": {
          "base_uri": "https://localhost:8080/"
        },
        "id": "uUzl6IZTFWKF",
        "outputId": "142023f5-99db-459b-ba01-e07b53974b4a"
      },
      "execution_count": null,
      "outputs": [
        {
          "output_type": "execute_result",
          "data": {
            "text/plain": [
              "3.14"
            ]
          },
          "metadata": {},
          "execution_count": 5
        }
      ]
    },
    {
      "cell_type": "code",
      "source": [
        "round(2.55, ndigits=0)"
      ],
      "metadata": {
        "colab": {
          "base_uri": "https://localhost:8080/"
        },
        "id": "-EAeUHexFfFg",
        "outputId": "4c75e5d3-1fd8-4f9a-e9fd-3a33c42d3fbb"
      },
      "execution_count": null,
      "outputs": [
        {
          "output_type": "execute_result",
          "data": {
            "text/plain": [
              "3.0"
            ]
          },
          "metadata": {},
          "execution_count": 6
        }
      ]
    },
    {
      "cell_type": "markdown",
      "source": [
        "If you don't know what a function does use: \n",
        "```bash\n",
        "help(name_function)\n",
        "```"
      ],
      "metadata": {
        "id": "rI9OS_pkFqc3"
      }
    },
    {
      "cell_type": "code",
      "source": [
        "help(round)"
      ],
      "metadata": {
        "colab": {
          "base_uri": "https://localhost:8080/"
        },
        "id": "D2-L2KK8FoXZ",
        "outputId": "5f15b140-325d-4a57-fac2-84752ce70f92"
      },
      "execution_count": null,
      "outputs": [
        {
          "output_type": "stream",
          "name": "stdout",
          "text": [
            "Help on built-in function round in module builtins:\n",
            "\n",
            "round(number, ndigits=None)\n",
            "    Round a number to a given precision in decimal digits.\n",
            "    \n",
            "    The return value is an integer if ndigits is omitted or None.  Otherwise\n",
            "    the return value has the same type as the number.  ndigits may be negative.\n",
            "\n"
          ]
        }
      ]
    },
    {
      "cell_type": "markdown",
      "source": [
        "## Libraries"
      ],
      "metadata": {
        "id": "q2m_17AqqxXb"
      }
    },
    {
      "cell_type": "code",
      "source": [
        "import math"
      ],
      "metadata": {
        "id": "4L7X1Riyq1B_"
      },
      "execution_count": null,
      "outputs": []
    },
    {
      "cell_type": "code",
      "source": [
        "print(math.pi)"
      ],
      "metadata": {
        "id": "V9s4Ha_3rLnT",
        "outputId": "a4fab3e4-3d16-44aa-feff-39441ac86970",
        "colab": {
          "base_uri": "https://localhost:8080/"
        }
      },
      "execution_count": null,
      "outputs": [
        {
          "output_type": "stream",
          "name": "stdout",
          "text": [
            "3.141592653589793\n"
          ]
        }
      ]
    },
    {
      "cell_type": "code",
      "source": [
        "import math as m\n",
        "print('pi is', m.pi)\n"
      ],
      "metadata": {
        "id": "1G8bciz4rTYb",
        "outputId": "1853b93a-e649-4586-c32f-12260db53794",
        "colab": {
          "base_uri": "https://localhost:8080/"
        }
      },
      "execution_count": null,
      "outputs": [
        {
          "output_type": "stream",
          "name": "stdout",
          "text": [
            "pi is 3.141592653589793\n"
          ]
        }
      ]
    },
    {
      "cell_type": "code",
      "source": [
        "type(m.pi)"
      ],
      "metadata": {
        "id": "H_UuqNX1rrZC",
        "outputId": "4a5d0698-72ab-4f6a-b00b-86e83b633a96",
        "colab": {
          "base_uri": "https://localhost:8080/"
        }
      },
      "execution_count": null,
      "outputs": [
        {
          "output_type": "execute_result",
          "data": {
            "text/plain": [
              "float"
            ]
          },
          "metadata": {},
          "execution_count": 14
        }
      ]
    },
    {
      "cell_type": "code",
      "source": [
        "print('cosine of pi is', m.cos(m.pi))"
      ],
      "metadata": {
        "id": "VBkHDChlrxun",
        "outputId": "e9968afb-3abd-4a9f-bc30-da444b761cad",
        "colab": {
          "base_uri": "https://localhost:8080/"
        }
      },
      "execution_count": null,
      "outputs": [
        {
          "output_type": "stream",
          "name": "stdout",
          "text": [
            "cosine of pi is -1.0\n"
          ]
        }
      ]
    },
    {
      "cell_type": "markdown",
      "source": [
        "If you need help with any commands, just type\n",
        "```\n",
        "Help()\n",
        "```"
      ],
      "metadata": {
        "id": "cvS4S0z4r71P"
      }
    },
    {
      "cell_type": "code",
      "source": [
        "help(math)"
      ],
      "metadata": {
        "id": "WynaxqaBsjbB",
        "outputId": "9be21fcb-47b7-4c5c-f170-96f061a0c9ca",
        "colab": {
          "base_uri": "https://localhost:8080/"
        }
      },
      "execution_count": null,
      "outputs": [
        {
          "output_type": "stream",
          "name": "stdout",
          "text": [
            "Help on built-in module math:\n",
            "\n",
            "NAME\n",
            "    math\n",
            "\n",
            "DESCRIPTION\n",
            "    This module provides access to the mathematical functions\n",
            "    defined by the C standard.\n",
            "\n",
            "FUNCTIONS\n",
            "    acos(x, /)\n",
            "        Return the arc cosine (measured in radians) of x.\n",
            "    \n",
            "    acosh(x, /)\n",
            "        Return the inverse hyperbolic cosine of x.\n",
            "    \n",
            "    asin(x, /)\n",
            "        Return the arc sine (measured in radians) of x.\n",
            "    \n",
            "    asinh(x, /)\n",
            "        Return the inverse hyperbolic sine of x.\n",
            "    \n",
            "    atan(x, /)\n",
            "        Return the arc tangent (measured in radians) of x.\n",
            "    \n",
            "    atan2(y, x, /)\n",
            "        Return the arc tangent (measured in radians) of y/x.\n",
            "        \n",
            "        Unlike atan(y/x), the signs of both x and y are considered.\n",
            "    \n",
            "    atanh(x, /)\n",
            "        Return the inverse hyperbolic tangent of x.\n",
            "    \n",
            "    ceil(x, /)\n",
            "        Return the ceiling of x as an Integral.\n",
            "        \n",
            "        This is the smallest integer >= x.\n",
            "    \n",
            "    copysign(x, y, /)\n",
            "        Return a float with the magnitude (absolute value) of x but the sign of y.\n",
            "        \n",
            "        On platforms that support signed zeros, copysign(1.0, -0.0)\n",
            "        returns -1.0.\n",
            "    \n",
            "    cos(x, /)\n",
            "        Return the cosine of x (measured in radians).\n",
            "    \n",
            "    cosh(x, /)\n",
            "        Return the hyperbolic cosine of x.\n",
            "    \n",
            "    degrees(x, /)\n",
            "        Convert angle x from radians to degrees.\n",
            "    \n",
            "    erf(x, /)\n",
            "        Error function at x.\n",
            "    \n",
            "    erfc(x, /)\n",
            "        Complementary error function at x.\n",
            "    \n",
            "    exp(x, /)\n",
            "        Return e raised to the power of x.\n",
            "    \n",
            "    expm1(x, /)\n",
            "        Return exp(x)-1.\n",
            "        \n",
            "        This function avoids the loss of precision involved in the direct evaluation of exp(x)-1 for small x.\n",
            "    \n",
            "    fabs(x, /)\n",
            "        Return the absolute value of the float x.\n",
            "    \n",
            "    factorial(x, /)\n",
            "        Find x!.\n",
            "        \n",
            "        Raise a ValueError if x is negative or non-integral.\n",
            "    \n",
            "    floor(x, /)\n",
            "        Return the floor of x as an Integral.\n",
            "        \n",
            "        This is the largest integer <= x.\n",
            "    \n",
            "    fmod(x, y, /)\n",
            "        Return fmod(x, y), according to platform C.\n",
            "        \n",
            "        x % y may differ.\n",
            "    \n",
            "    frexp(x, /)\n",
            "        Return the mantissa and exponent of x, as pair (m, e).\n",
            "        \n",
            "        m is a float and e is an int, such that x = m * 2.**e.\n",
            "        If x is 0, m and e are both 0.  Else 0.5 <= abs(m) < 1.0.\n",
            "    \n",
            "    fsum(seq, /)\n",
            "        Return an accurate floating point sum of values in the iterable seq.\n",
            "        \n",
            "        Assumes IEEE-754 floating point arithmetic.\n",
            "    \n",
            "    gamma(x, /)\n",
            "        Gamma function at x.\n",
            "    \n",
            "    gcd(x, y, /)\n",
            "        greatest common divisor of x and y\n",
            "    \n",
            "    hypot(x, y, /)\n",
            "        Return the Euclidean distance, sqrt(x*x + y*y).\n",
            "    \n",
            "    isclose(a, b, *, rel_tol=1e-09, abs_tol=0.0)\n",
            "        Determine whether two floating point numbers are close in value.\n",
            "        \n",
            "          rel_tol\n",
            "            maximum difference for being considered \"close\", relative to the\n",
            "            magnitude of the input values\n",
            "          abs_tol\n",
            "            maximum difference for being considered \"close\", regardless of the\n",
            "            magnitude of the input values\n",
            "        \n",
            "        Return True if a is close in value to b, and False otherwise.\n",
            "        \n",
            "        For the values to be considered close, the difference between them\n",
            "        must be smaller than at least one of the tolerances.\n",
            "        \n",
            "        -inf, inf and NaN behave similarly to the IEEE 754 Standard.  That\n",
            "        is, NaN is not close to anything, even itself.  inf and -inf are\n",
            "        only close to themselves.\n",
            "    \n",
            "    isfinite(x, /)\n",
            "        Return True if x is neither an infinity nor a NaN, and False otherwise.\n",
            "    \n",
            "    isinf(x, /)\n",
            "        Return True if x is a positive or negative infinity, and False otherwise.\n",
            "    \n",
            "    isnan(x, /)\n",
            "        Return True if x is a NaN (not a number), and False otherwise.\n",
            "    \n",
            "    ldexp(x, i, /)\n",
            "        Return x * (2**i).\n",
            "        \n",
            "        This is essentially the inverse of frexp().\n",
            "    \n",
            "    lgamma(x, /)\n",
            "        Natural logarithm of absolute value of Gamma function at x.\n",
            "    \n",
            "    log(...)\n",
            "        log(x, [base=math.e])\n",
            "        Return the logarithm of x to the given base.\n",
            "        \n",
            "        If the base not specified, returns the natural logarithm (base e) of x.\n",
            "    \n",
            "    log10(x, /)\n",
            "        Return the base 10 logarithm of x.\n",
            "    \n",
            "    log1p(x, /)\n",
            "        Return the natural logarithm of 1+x (base e).\n",
            "        \n",
            "        The result is computed in a way which is accurate for x near zero.\n",
            "    \n",
            "    log2(x, /)\n",
            "        Return the base 2 logarithm of x.\n",
            "    \n",
            "    modf(x, /)\n",
            "        Return the fractional and integer parts of x.\n",
            "        \n",
            "        Both results carry the sign of x and are floats.\n",
            "    \n",
            "    pow(x, y, /)\n",
            "        Return x**y (x to the power of y).\n",
            "    \n",
            "    radians(x, /)\n",
            "        Convert angle x from degrees to radians.\n",
            "    \n",
            "    remainder(x, y, /)\n",
            "        Difference between x and the closest integer multiple of y.\n",
            "        \n",
            "        Return x - n*y where n*y is the closest integer multiple of y.\n",
            "        In the case where x is exactly halfway between two multiples of\n",
            "        y, the nearest even value of n is used. The result is always exact.\n",
            "    \n",
            "    sin(x, /)\n",
            "        Return the sine of x (measured in radians).\n",
            "    \n",
            "    sinh(x, /)\n",
            "        Return the hyperbolic sine of x.\n",
            "    \n",
            "    sqrt(x, /)\n",
            "        Return the square root of x.\n",
            "    \n",
            "    tan(x, /)\n",
            "        Return the tangent of x (measured in radians).\n",
            "    \n",
            "    tanh(x, /)\n",
            "        Return the hyperbolic tangent of x.\n",
            "    \n",
            "    trunc(x, /)\n",
            "        Truncates the Real x to the nearest Integral toward 0.\n",
            "        \n",
            "        Uses the __trunc__ magic method.\n",
            "\n",
            "DATA\n",
            "    e = 2.718281828459045\n",
            "    inf = inf\n",
            "    nan = nan\n",
            "    pi = 3.141592653589793\n",
            "    tau = 6.283185307179586\n",
            "\n",
            "FILE\n",
            "    (built-in)\n",
            "\n",
            "\n"
          ]
        }
      ]
    },
    {
      "cell_type": "markdown",
      "source": [
        "# Reading Tables as Data"
      ],
      "metadata": {
        "id": "DiCcr6rTsGc4"
      }
    },
    {
      "cell_type": "code",
      "source": [
        "import pandas as pd"
      ],
      "metadata": {
        "id": "CxWlNCQ-sCr0"
      },
      "execution_count": null,
      "outputs": []
    },
    {
      "cell_type": "markdown",
      "source": [
        "**pandas** is a library for python that reads spreadsheets as data"
      ],
      "metadata": {
        "id": "oQbWaxDRsVrV"
      }
    },
    {
      "cell_type": "code",
      "source": [
        "help(pd)"
      ],
      "metadata": {
        "id": "3ksvC9WUsddT",
        "outputId": "7542d082-8776-4513-8757-912ec0b32d30",
        "colab": {
          "base_uri": "https://localhost:8080/"
        }
      },
      "execution_count": null,
      "outputs": [
        {
          "output_type": "stream",
          "name": "stdout",
          "text": [
            "Help on package pandas:\n",
            "\n",
            "NAME\n",
            "    pandas\n",
            "\n",
            "DESCRIPTION\n",
            "    pandas - a powerful data analysis and manipulation library for Python\n",
            "    =====================================================================\n",
            "    \n",
            "    **pandas** is a Python package providing fast, flexible, and expressive data\n",
            "    structures designed to make working with \"relational\" or \"labeled\" data both\n",
            "    easy and intuitive. It aims to be the fundamental high-level building block for\n",
            "    doing practical, **real world** data analysis in Python. Additionally, it has\n",
            "    the broader goal of becoming **the most powerful and flexible open source data\n",
            "    analysis / manipulation tool available in any language**. It is already well on\n",
            "    its way toward this goal.\n",
            "    \n",
            "    Main Features\n",
            "    -------------\n",
            "    Here are just a few of the things that pandas does well:\n",
            "    \n",
            "      - Easy handling of missing data in floating point as well as non-floating\n",
            "        point data.\n",
            "      - Size mutability: columns can be inserted and deleted from DataFrame and\n",
            "        higher dimensional objects\n",
            "      - Automatic and explicit data alignment: objects can be explicitly aligned\n",
            "        to a set of labels, or the user can simply ignore the labels and let\n",
            "        `Series`, `DataFrame`, etc. automatically align the data for you in\n",
            "        computations.\n",
            "      - Powerful, flexible group by functionality to perform split-apply-combine\n",
            "        operations on data sets, for both aggregating and transforming data.\n",
            "      - Make it easy to convert ragged, differently-indexed data in other Python\n",
            "        and NumPy data structures into DataFrame objects.\n",
            "      - Intelligent label-based slicing, fancy indexing, and subsetting of large\n",
            "        data sets.\n",
            "      - Intuitive merging and joining data sets.\n",
            "      - Flexible reshaping and pivoting of data sets.\n",
            "      - Hierarchical labeling of axes (possible to have multiple labels per tick).\n",
            "      - Robust IO tools for loading data from flat files (CSV and delimited),\n",
            "        Excel files, databases, and saving/loading data from the ultrafast HDF5\n",
            "        format.\n",
            "      - Time series-specific functionality: date range generation and frequency\n",
            "        conversion, moving window statistics, date shifting and lagging.\n",
            "\n",
            "PACKAGE CONTENTS\n",
            "    _config (package)\n",
            "    _libs (package)\n",
            "    _testing (package)\n",
            "    _typing\n",
            "    _version\n",
            "    api (package)\n",
            "    arrays (package)\n",
            "    compat (package)\n",
            "    conftest\n",
            "    core (package)\n",
            "    errors (package)\n",
            "    io (package)\n",
            "    plotting (package)\n",
            "    testing\n",
            "    tests (package)\n",
            "    tseries (package)\n",
            "    util (package)\n",
            "\n",
            "SUBMODULES\n",
            "    _hashtable\n",
            "    _lib\n",
            "    _tslib\n",
            "    offsets\n",
            "\n",
            "FUNCTIONS\n",
            "    __getattr__(name)\n",
            "        # GH 27101\n",
            "\n",
            "DATA\n",
            "    IndexSlice = <pandas.core.indexing._IndexSlice object>\n",
            "    NA = <NA>\n",
            "    NaT = NaT\n",
            "    __docformat__ = 'restructuredtext'\n",
            "    __git_version__ = '66e3805b8cabe977f40c05259cc3fcf7ead5687d'\n",
            "    describe_option = <pandas._config.config.CallableDynamicDoc object>\n",
            "    get_option = <pandas._config.config.CallableDynamicDoc object>\n",
            "    options = <pandas._config.config.DictWrapper object>\n",
            "    reset_option = <pandas._config.config.CallableDynamicDoc object>\n",
            "    set_option = <pandas._config.config.CallableDynamicDoc object>\n",
            "\n",
            "VERSION\n",
            "    1.3.5\n",
            "\n",
            "FILE\n",
            "    /usr/local/lib/python3.7/dist-packages/pandas/__init__.py\n",
            "\n",
            "\n"
          ]
        }
      ]
    },
    {
      "cell_type": "markdown",
      "source": [
        "To read a data set, use \n",
        "```\n",
        "data = pd.read_csv\n",
        "```"
      ],
      "metadata": {
        "id": "lbaKHYzLtZbe"
      }
    },
    {
      "cell_type": "code",
      "source": [
        "data = pd.read_csv('sample_data/california_housing_test.csv')\n",
        "print(data)"
      ],
      "metadata": {
        "id": "sAMwZjBfst5j",
        "outputId": "d50c38c0-a235-423f-cd7d-95a22402048f",
        "colab": {
          "base_uri": "https://localhost:8080/"
        }
      },
      "execution_count": null,
      "outputs": [
        {
          "output_type": "stream",
          "name": "stdout",
          "text": [
            "      longitude  latitude  housing_median_age  total_rooms  total_bedrooms  \\\n",
            "0       -122.05     37.37                27.0       3885.0           661.0   \n",
            "1       -118.30     34.26                43.0       1510.0           310.0   \n",
            "2       -117.81     33.78                27.0       3589.0           507.0   \n",
            "3       -118.36     33.82                28.0         67.0            15.0   \n",
            "4       -119.67     36.33                19.0       1241.0           244.0   \n",
            "...         ...       ...                 ...          ...             ...   \n",
            "2995    -119.86     34.42                23.0       1450.0           642.0   \n",
            "2996    -118.14     34.06                27.0       5257.0          1082.0   \n",
            "2997    -119.70     36.30                10.0        956.0           201.0   \n",
            "2998    -117.12     34.10                40.0         96.0            14.0   \n",
            "2999    -119.63     34.42                42.0       1765.0           263.0   \n",
            "\n",
            "      population  households  median_income  median_house_value  \n",
            "0         1537.0       606.0         6.6085            344700.0  \n",
            "1          809.0       277.0         3.5990            176500.0  \n",
            "2         1484.0       495.0         5.7934            270500.0  \n",
            "3           49.0        11.0         6.1359            330000.0  \n",
            "4          850.0       237.0         2.9375             81700.0  \n",
            "...          ...         ...            ...                 ...  \n",
            "2995      1258.0       607.0         1.1790            225000.0  \n",
            "2996      3496.0      1036.0         3.3906            237200.0  \n",
            "2997       693.0       220.0         2.2895             62000.0  \n",
            "2998        46.0        14.0         3.2708            162500.0  \n",
            "2999       753.0       260.0         8.5608            500001.0  \n",
            "\n",
            "[3000 rows x 9 columns]\n"
          ]
        }
      ]
    },
    {
      "cell_type": "code",
      "source": [
        "data = pd.read_csv('sample_data/california_housing_test.csv', index_col='median_income')\n",
        "print(data)"
      ],
      "metadata": {
        "id": "inR8uHQZtDLK",
        "outputId": "44509e85-1a9e-4677-9830-25df87f0792d",
        "colab": {
          "base_uri": "https://localhost:8080/"
        }
      },
      "execution_count": null,
      "outputs": [
        {
          "output_type": "stream",
          "name": "stdout",
          "text": [
            "               longitude  latitude  housing_median_age  total_rooms  \\\n",
            "median_income                                                         \n",
            "6.6085           -122.05     37.37                27.0       3885.0   \n",
            "3.5990           -118.30     34.26                43.0       1510.0   \n",
            "5.7934           -117.81     33.78                27.0       3589.0   \n",
            "6.1359           -118.36     33.82                28.0         67.0   \n",
            "2.9375           -119.67     36.33                19.0       1241.0   \n",
            "...                  ...       ...                 ...          ...   \n",
            "1.1790           -119.86     34.42                23.0       1450.0   \n",
            "3.3906           -118.14     34.06                27.0       5257.0   \n",
            "2.2895           -119.70     36.30                10.0        956.0   \n",
            "3.2708           -117.12     34.10                40.0         96.0   \n",
            "8.5608           -119.63     34.42                42.0       1765.0   \n",
            "\n",
            "               total_bedrooms  population  households  median_house_value  \n",
            "median_income                                                              \n",
            "6.6085                  661.0      1537.0       606.0            344700.0  \n",
            "3.5990                  310.0       809.0       277.0            176500.0  \n",
            "5.7934                  507.0      1484.0       495.0            270500.0  \n",
            "6.1359                   15.0        49.0        11.0            330000.0  \n",
            "2.9375                  244.0       850.0       237.0             81700.0  \n",
            "...                       ...         ...         ...                 ...  \n",
            "1.1790                  642.0      1258.0       607.0            225000.0  \n",
            "3.3906                 1082.0      3496.0      1036.0            237200.0  \n",
            "2.2895                  201.0       693.0       220.0             62000.0  \n",
            "3.2708                   14.0        46.0        14.0            162500.0  \n",
            "8.5608                  263.0       753.0       260.0            500001.0  \n",
            "\n",
            "[3000 rows x 8 columns]\n"
          ]
        }
      ]
    },
    {
      "cell_type": "code",
      "source": [
        "type(data)"
      ],
      "metadata": {
        "id": "IRG4sM8ltiwe",
        "outputId": "a99d1671-2be6-4874-d27f-8ea05c213832",
        "colab": {
          "base_uri": "https://localhost:8080/"
        }
      },
      "execution_count": null,
      "outputs": [
        {
          "output_type": "execute_result",
          "data": {
            "text/plain": [
              "pandas.core.frame.DataFrame"
            ]
          },
          "metadata": {},
          "execution_count": 23
        }
      ]
    },
    {
      "cell_type": "code",
      "source": [
        "data.info()"
      ],
      "metadata": {
        "id": "-21qAIdztlhQ",
        "outputId": "c93607ff-a01d-4c24-c24c-b310cbd5700c",
        "colab": {
          "base_uri": "https://localhost:8080/"
        }
      },
      "execution_count": null,
      "outputs": [
        {
          "output_type": "stream",
          "name": "stdout",
          "text": [
            "<class 'pandas.core.frame.DataFrame'>\n",
            "Float64Index: 3000 entries, 6.6085 to 8.5608\n",
            "Data columns (total 8 columns):\n",
            " #   Column              Non-Null Count  Dtype  \n",
            "---  ------              --------------  -----  \n",
            " 0   longitude           3000 non-null   float64\n",
            " 1   latitude            3000 non-null   float64\n",
            " 2   housing_median_age  3000 non-null   float64\n",
            " 3   total_rooms         3000 non-null   float64\n",
            " 4   total_bedrooms      3000 non-null   float64\n",
            " 5   population          3000 non-null   float64\n",
            " 6   households          3000 non-null   float64\n",
            " 7   median_house_value  3000 non-null   float64\n",
            "dtypes: float64(8)\n",
            "memory usage: 210.9 KB\n"
          ]
        }
      ]
    },
    {
      "cell_type": "code",
      "source": [
        "print(data.columns)"
      ],
      "metadata": {
        "id": "BOfEVo3_t8pM",
        "outputId": "6d4ebf03-b674-4693-e5e7-84f3e8734cca",
        "colab": {
          "base_uri": "https://localhost:8080/"
        }
      },
      "execution_count": null,
      "outputs": [
        {
          "output_type": "stream",
          "name": "stdout",
          "text": [
            "Index(['longitude', 'latitude', 'housing_median_age', 'total_rooms',\n",
            "       'total_bedrooms', 'population', 'households', 'median_house_value'],\n",
            "      dtype='object')\n"
          ]
        }
      ]
    },
    {
      "cell_type": "markdown",
      "source": [
        "Using\n",
        "```\n",
        "data.T\n",
        "```\n",
        "Will transpose the data (columns --> rows & vice versa)"
      ],
      "metadata": {
        "id": "fAFsoXFJuKDL"
      }
    },
    {
      "cell_type": "code",
      "source": [
        "print(data.T)"
      ],
      "metadata": {
        "id": "Np__AE41uEXf",
        "outputId": "7cb55bc4-cee3-4666-e5f3-95968c8e913b",
        "colab": {
          "base_uri": "https://localhost:8080/"
        }
      },
      "execution_count": null,
      "outputs": [
        {
          "output_type": "stream",
          "name": "stdout",
          "text": [
            "median_income          6.6085     3.5990     5.7934     6.1359    2.9375  \\\n",
            "longitude             -122.05    -118.30    -117.81    -118.36   -119.67   \n",
            "latitude                37.37      34.26      33.78      33.82     36.33   \n",
            "housing_median_age      27.00      43.00      27.00      28.00     19.00   \n",
            "total_rooms           3885.00    1510.00    3589.00      67.00   1241.00   \n",
            "total_bedrooms         661.00     310.00     507.00      15.00    244.00   \n",
            "population            1537.00     809.00    1484.00      49.00    850.00   \n",
            "households             606.00     277.00     495.00      11.00    237.00   \n",
            "median_house_value  344700.00  176500.00  270500.00  330000.00  81700.00   \n",
            "\n",
            "median_income         1.6635    1.6641     3.2250     3.6696     2.3333  ...  \\\n",
            "longitude            -119.56   -121.43    -120.65    -122.84    -118.02  ...   \n",
            "latitude               36.51     38.63      35.48      38.40      34.08  ...   \n",
            "housing_median_age     37.00     43.00      19.00      15.00      31.00  ...   \n",
            "total_rooms          1018.00   1009.00    2310.00    3080.00    2402.00  ...   \n",
            "total_bedrooms        213.00    225.00     471.00     617.00     632.00  ...   \n",
            "population            663.00    604.00    1341.00    1446.00    2830.00  ...   \n",
            "households            204.00    218.00     441.00     599.00     603.00  ...   \n",
            "median_house_value  67000.00  67000.00  166900.00  194400.00  164200.00  ...   \n",
            "\n",
            "median_income          2.6923     7.1997     6.2263     5.1048     5.5867  \\\n",
            "longitude             -118.23    -117.17    -122.33    -117.91    -117.93   \n",
            "latitude                34.09      34.28      37.39      33.60      33.86   \n",
            "housing_median_age      49.00      13.00      52.00      37.00      35.00   \n",
            "total_rooms           1638.00    4867.00     573.00    2088.00     931.00   \n",
            "total_bedrooms         456.00     718.00     102.00     510.00     181.00   \n",
            "population            1500.00     780.00     232.00     673.00     516.00   \n",
            "households             430.00     250.00      92.00     390.00     174.00   \n",
            "median_house_value  150000.00  253800.00  500001.00  500001.00  182500.00   \n",
            "\n",
            "median_income          1.1790     3.3906   2.2895     3.2708     8.5608  \n",
            "longitude             -119.86    -118.14   -119.7    -117.12    -119.63  \n",
            "latitude                34.42      34.06     36.3      34.10      34.42  \n",
            "housing_median_age      23.00      27.00     10.0      40.00      42.00  \n",
            "total_rooms           1450.00    5257.00    956.0      96.00    1765.00  \n",
            "total_bedrooms         642.00    1082.00    201.0      14.00     263.00  \n",
            "population            1258.00    3496.00    693.0      46.00     753.00  \n",
            "households             607.00    1036.00    220.0      14.00     260.00  \n",
            "median_house_value  225000.00  237200.00  62000.0  162500.00  500001.00  \n",
            "\n",
            "[8 rows x 3000 columns]\n"
          ]
        }
      ]
    },
    {
      "cell_type": "markdown",
      "source": [
        "To look at your data use:\n",
        "```\n",
        "print(data.describe())\n",
        "```"
      ],
      "metadata": {
        "id": "kqGx_gA8uzJq"
      }
    },
    {
      "cell_type": "code",
      "source": [
        "print(data.describe())"
      ],
      "metadata": {
        "id": "a7GAPXjUuU4R",
        "outputId": "d57efa7f-9a36-4d5d-8c7d-5202b9e6604b",
        "colab": {
          "base_uri": "https://localhost:8080/"
        }
      },
      "execution_count": null,
      "outputs": [
        {
          "output_type": "stream",
          "name": "stdout",
          "text": [
            "         longitude    latitude  housing_median_age   total_rooms  \\\n",
            "count  3000.000000  3000.00000         3000.000000   3000.000000   \n",
            "mean   -119.589200    35.63539           28.845333   2599.578667   \n",
            "std       1.994936     2.12967           12.555396   2155.593332   \n",
            "min    -124.180000    32.56000            1.000000      6.000000   \n",
            "25%    -121.810000    33.93000           18.000000   1401.000000   \n",
            "50%    -118.485000    34.27000           29.000000   2106.000000   \n",
            "75%    -118.020000    37.69000           37.000000   3129.000000   \n",
            "max    -114.490000    41.92000           52.000000  30450.000000   \n",
            "\n",
            "       total_bedrooms    population  households  median_house_value  \n",
            "count     3000.000000   3000.000000  3000.00000          3000.00000  \n",
            "mean       529.950667   1402.798667   489.91200        205846.27500  \n",
            "std        415.654368   1030.543012   365.42271        113119.68747  \n",
            "min          2.000000      5.000000     2.00000         22500.00000  \n",
            "25%        291.000000    780.000000   273.00000        121200.00000  \n",
            "50%        437.000000   1155.000000   409.50000        177650.00000  \n",
            "75%        636.000000   1742.750000   597.25000        263975.00000  \n",
            "max       5419.000000  11935.000000  4930.00000        500001.00000  \n"
          ]
        }
      ]
    },
    {
      "cell_type": "code",
      "source": [
        "print(data.T.describe())"
      ],
      "metadata": {
        "id": "07pDeFisvOsY",
        "outputId": "229225d1-752c-4c1e-c36d-77dd15ca4696",
        "colab": {
          "base_uri": "https://localhost:8080/"
        }
      },
      "execution_count": null,
      "outputs": [
        {
          "output_type": "stream",
          "name": "stdout",
          "text": [
            "median_income         6.6085         3.5990         5.7934         6.1359  \\\n",
            "count               8.000000       8.000000       8.000000       8.000000   \n",
            "mean            43916.415000   22420.620000   34564.746250   41260.682500   \n",
            "std            121541.970835   62259.710451   95340.051195  116668.316062   \n",
            "min              -122.050000    -118.300000    -117.810000    -118.360000   \n",
            "25%                34.777500      40.815000      32.085000      14.000000   \n",
            "50%               633.500000     293.500000     501.000000      30.910000   \n",
            "75%              2124.000000     984.250000    2010.250000      53.500000   \n",
            "max            344700.000000  176500.000000  270500.000000  330000.000000   \n",
            "\n",
            "median_income        2.9375        1.6635        1.6641         3.2250  \\\n",
            "count              8.000000      8.000000      8.000000       8.000000   \n",
            "mean           10525.957500   8631.493750   8627.025000   21424.603750   \n",
            "std            28762.371344  23587.400994  23589.024838   58786.621064   \n",
            "min             -119.670000   -119.560000   -121.430000    -120.650000   \n",
            "25%               31.997500     36.877500     41.907500      31.360000   \n",
            "50%              240.500000    208.500000    221.500000     456.000000   \n",
            "75%              947.750000    751.750000    705.250000    1583.250000   \n",
            "max            81700.000000  67000.000000  67000.000000  166900.000000   \n",
            "\n",
            "median_income         3.6696         2.3333  ...       2.6923         7.1997  \\\n",
            "count               8.000000       8.000000  ...       8.0000       8.000000   \n",
            "mean            25009.070000   21326.757500  ...   19248.6075   32543.138750   \n",
            "std             68452.345193   57740.247048  ...   52835.6918   89416.267414   \n",
            "min              -122.840000    -118.020000  ...    -118.2300    -117.170000   \n",
            "25%                32.550000      33.310000  ...      45.2725      28.960000   \n",
            "50%               608.000000     617.500000  ...     443.0000     484.000000   \n",
            "75%              1854.500000    2509.000000  ...    1534.5000    1801.750000   \n",
            "max            194400.000000  164200.000000  ...  150000.0000  253800.000000   \n",
            "\n",
            "median_income         6.2263         5.1048         5.5867         1.1790  \\\n",
            "count               8.000000       8.000000       8.000000       8.000000   \n",
            "mean            62620.882500   62951.836250   23031.616250   28611.820000   \n",
            "std            176728.371353  176595.895348   64435.814749   79354.891655   \n",
            "min              -122.330000    -117.910000    -117.930000    -119.860000   \n",
            "25%                48.347500      36.150000      34.715000      31.565000   \n",
            "50%                97.000000     450.000000     177.500000     624.500000   \n",
            "75%               317.250000    1026.750000     619.750000    1306.000000   \n",
            "max            500001.000000  500001.000000  182500.000000  225000.000000   \n",
            "\n",
            "median_income         3.3906        2.2895         3.2708         8.5608  \n",
            "count               8.000000      8.000000       8.000000       8.000000  \n",
            "mean            31001.740000   7999.575000   20328.372500   62874.848750  \n",
            "std             83338.462109  21822.508466   57446.044718  176626.669812  \n",
            "min              -118.140000   -119.700000    -117.120000    -119.630000  \n",
            "25%                32.295000     29.725000      14.000000      40.105000  \n",
            "50%              1059.000000    210.500000      37.050000     261.500000  \n",
            "75%              3936.250000    758.750000      58.500000    1006.000000  \n",
            "max            237200.000000  62000.000000  162500.000000  500001.000000  \n",
            "\n",
            "[8 rows x 3000 columns]\n"
          ]
        }
      ]
    },
    {
      "cell_type": "markdown",
      "source": [
        "To save your data use:\n",
        "```\n",
        "data.T.to_csv('sample_data/california_housing_test_transposed.csv')\n",
        "```"
      ],
      "metadata": {
        "id": "lNvlEDrzu6lP"
      }
    },
    {
      "cell_type": "code",
      "source": [
        "data.T.to_csv('sample_data/california_housing_test_transposed.csv')"
      ],
      "metadata": {
        "id": "4rwz6NTburKJ"
      },
      "execution_count": null,
      "outputs": []
    },
    {
      "cell_type": "markdown",
      "source": [
        "## Plotting Data"
      ],
      "metadata": {
        "id": "cC_EqyVCv62x"
      }
    },
    {
      "cell_type": "code",
      "source": [
        "%matplotlib inline\n",
        "import matplotlib.pyplot as plt"
      ],
      "metadata": {
        "id": "JP1i-p1mv8ex"
      },
      "execution_count": null,
      "outputs": []
    },
    {
      "cell_type": "code",
      "source": [
        "time = [0,1,2,3,4,5]\n",
        "response = [20,25,40,80,65,47]"
      ],
      "metadata": {
        "id": "P2yFIvFzwUrt"
      },
      "execution_count": null,
      "outputs": []
    },
    {
      "cell_type": "code",
      "source": [
        "type(time)"
      ],
      "metadata": {
        "id": "yP3VMWxTwhhg",
        "outputId": "3acaf2b4-fcc1-4546-f05a-f5d8cf1b72f8",
        "colab": {
          "base_uri": "https://localhost:8080/"
        }
      },
      "execution_count": null,
      "outputs": [
        {
          "output_type": "execute_result",
          "data": {
            "text/plain": [
              "list"
            ]
          },
          "metadata": {},
          "execution_count": 36
        }
      ]
    },
    {
      "cell_type": "code",
      "source": [
        "print(time,response)"
      ],
      "metadata": {
        "id": "68rHeG6FwlXX",
        "outputId": "727d3c58-f08f-4764-eadd-277fb65aa4e1",
        "colab": {
          "base_uri": "https://localhost:8080/"
        }
      },
      "execution_count": null,
      "outputs": [
        {
          "output_type": "stream",
          "name": "stdout",
          "text": [
            "[0, 1, 2, 3, 4, 5] [20, 25, 40, 80, 65, 47]\n"
          ]
        }
      ]
    },
    {
      "cell_type": "markdown",
      "source": [
        "To make associations (i.e., graph), need to use MatplotLib package"
      ],
      "metadata": {
        "id": "FHwGo1FUwuhS"
      }
    },
    {
      "cell_type": "code",
      "source": [
        "plt.plot(time,response)\n",
        "plt.xlabel('time (hours)')\n",
        "plt.ylabel('response (cm)')"
      ],
      "metadata": {
        "id": "SpyyG9CnwsHa",
        "outputId": "b932ceab-e9ec-419e-9906-6e11968e95fc",
        "colab": {
          "base_uri": "https://localhost:8080/",
          "height": 316
        }
      },
      "execution_count": null,
      "outputs": [
        {
          "output_type": "execute_result",
          "data": {
            "text/plain": [
              "Text(0, 0.5, 'response (cm)')"
            ]
          },
          "metadata": {},
          "execution_count": 41
        },
        {
          "output_type": "display_data",
          "data": {
            "text/plain": [
              "<Figure size 432x288 with 1 Axes>"
            ],
            "image/png": "[encoded data removed]"
          },
          "metadata": {
            "needs_background": "light"
          }
        }
      ]
    },
    {
      "cell_type": "markdown",
      "source": [
        "Using a ! in front of a line keeps python from running\n",
        "```\n",
        "!curl -L\n",
        "```\n",
        "Tells linux it is a link to use"
      ],
      "metadata": {
        "id": "Ssa0PjIWxF8t"
      }
    },
    {
      "cell_type": "code",
      "source": [
        "!curl -L -o PracCompPyData.zip http://bit.ly/PracCompPyData"
      ],
      "metadata": {
        "id": "zXr5BpNPxHAc",
        "outputId": "df8ff5c7-8cb8-4646-cb60-744d3ee33535",
        "colab": {
          "base_uri": "https://localhost:8080/"
        }
      },
      "execution_count": null,
      "outputs": [
        {
          "output_type": "stream",
          "name": "stdout",
          "text": [
            "  % Total    % Received % Xferd  Average Speed   Time    Time     Time  Current\n",
            "                                 Dload  Upload   Total   Spent    Left  Speed\n",
            "100   137  100   137    0     0   1245      0 --:--:-- --:--:-- --:--:--  1245\n",
            "100   116    0   116    0     0    106      0 --:--:--  0:00:01 --:--:--   144\n",
            "100   340  100   340    0     0    206      0  0:00:01  0:00:01 --:--:--     0\n",
            "100   534    0   534    0     0    263      0 --:--:--  0:00:02 --:--:--   263\n",
            "100 38179  100 38179    0     0  17306      0  0:00:02  0:00:02 --:--:-- 17306\n"
          ]
        }
      ]
    },
    {
      "cell_type": "code",
      "source": [
        "!unzip PracCompPyData.zip"
      ],
      "metadata": {
        "id": "9p4RB3tyxeRy",
        "outputId": "caa4ca15-d5c7-4728-ef9e-070e07314feb",
        "colab": {
          "base_uri": "https://localhost:8080/"
        }
      },
      "execution_count": null,
      "outputs": [
        {
          "output_type": "stream",
          "name": "stdout",
          "text": [
            "Archive:  PracCompPyData.zip\n",
            "  inflating: data/gapminder_all.csv  \n",
            "  inflating: data/gapminder_gdp_africa.csv  \n",
            "  inflating: data/gapminder_gdp_americas.csv  \n",
            "  inflating: data/gapminder_gdp_asia.csv  \n",
            "  inflating: data/gapminder_gdp_europe.csv  \n",
            "  inflating: data/gapminder_gdp_oceania.csv  \n"
          ]
        }
      ]
    },
    {
      "cell_type": "code",
      "source": [
        "data = pd.read_csv('data/gapminder_gdp_oceania.csv', index_col='country')\n",
        "print(data)"
      ],
      "metadata": {
        "id": "JW-SzIfdxl_3",
        "outputId": "7b0a56dd-7248-4bd3-cb25-a727d3f4af6f",
        "colab": {
          "base_uri": "https://localhost:8080/"
        }
      },
      "execution_count": null,
      "outputs": [
        {
          "output_type": "stream",
          "name": "stdout",
          "text": [
            "             gdpPercap_1952  gdpPercap_1957  gdpPercap_1962  gdpPercap_1967  \\\n",
            "country                                                                       \n",
            "Australia       10039.59564     10949.64959     12217.22686     14526.12465   \n",
            "New Zealand     10556.57566     12247.39532     13175.67800     14463.91893   \n",
            "\n",
            "             gdpPercap_1972  gdpPercap_1977  gdpPercap_1982  gdpPercap_1987  \\\n",
            "country                                                                       \n",
            "Australia       16788.62948     18334.19751     19477.00928     21888.88903   \n",
            "New Zealand     16046.03728     16233.71770     17632.41040     19007.19129   \n",
            "\n",
            "             gdpPercap_1992  gdpPercap_1997  gdpPercap_2002  gdpPercap_2007  \n",
            "country                                                                      \n",
            "Australia       23424.76683     26997.93657     30687.75473     34435.36744  \n",
            "New Zealand     18363.32494     21050.41377     23189.80135     25185.00911  \n"
          ]
        }
      ]
    },
    {
      "cell_type": "code",
      "source": [
        "years = data.columns.str.strip('gdpPercap_')\n",
        "type(years)"
      ],
      "metadata": {
        "id": "VMziav3EyIaz",
        "outputId": "be486c92-953b-407f-cfd5-b59192dc9f3e",
        "colab": {
          "base_uri": "https://localhost:8080/"
        }
      },
      "execution_count": null,
      "outputs": [
        {
          "output_type": "execute_result",
          "data": {
            "text/plain": [
              "pandas.core.indexes.base.Index"
            ]
          },
          "metadata": {},
          "execution_count": 48
        }
      ]
    },
    {
      "cell_type": "code",
      "source": [
        "data.info()"
      ],
      "metadata": {
        "id": "LKskQY4YyYso",
        "outputId": "39ede60e-c211-42bb-9ed9-626cd9711b19",
        "colab": {
          "base_uri": "https://localhost:8080/"
        }
      },
      "execution_count": null,
      "outputs": [
        {
          "output_type": "stream",
          "name": "stdout",
          "text": [
            "<class 'pandas.core.frame.DataFrame'>\n",
            "Index: 2 entries, Australia to New Zealand\n",
            "Data columns (total 12 columns):\n",
            " #   Column          Non-Null Count  Dtype  \n",
            "---  ------          --------------  -----  \n",
            " 0   gdpPercap_1952  2 non-null      float64\n",
            " 1   gdpPercap_1957  2 non-null      float64\n",
            " 2   gdpPercap_1962  2 non-null      float64\n",
            " 3   gdpPercap_1967  2 non-null      float64\n",
            " 4   gdpPercap_1972  2 non-null      float64\n",
            " 5   gdpPercap_1977  2 non-null      float64\n",
            " 6   gdpPercap_1982  2 non-null      float64\n",
            " 7   gdpPercap_1987  2 non-null      float64\n",
            " 8   gdpPercap_1992  2 non-null      float64\n",
            " 9   gdpPercap_1997  2 non-null      float64\n",
            " 10  gdpPercap_2002  2 non-null      float64\n",
            " 11  gdpPercap_2007  2 non-null      float64\n",
            "dtypes: float64(12)\n",
            "memory usage: 316.0+ bytes\n"
          ]
        }
      ]
    },
    {
      "cell_type": "code",
      "source": [
        "print(data.columns)"
      ],
      "metadata": {
        "id": "BYSv70Jeye3b",
        "outputId": "a925942d-dcb0-4c66-e98c-baa4177416ca",
        "colab": {
          "base_uri": "https://localhost:8080/"
        }
      },
      "execution_count": null,
      "outputs": [
        {
          "output_type": "stream",
          "name": "stdout",
          "text": [
            "Index(['gdpPercap_1952', 'gdpPercap_1957', 'gdpPercap_1962', 'gdpPercap_1967',\n",
            "       'gdpPercap_1972', 'gdpPercap_1977', 'gdpPercap_1982', 'gdpPercap_1987',\n",
            "       'gdpPercap_1992', 'gdpPercap_1997', 'gdpPercap_2002', 'gdpPercap_2007'],\n",
            "      dtype='object')\n"
          ]
        }
      ]
    },
    {
      "cell_type": "code",
      "source": [
        "print(data.T)"
      ],
      "metadata": {
        "id": "8CCEHoKhyuuL",
        "outputId": "9683db24-e10a-4095-dbfe-fab8bac2fd9a",
        "colab": {
          "base_uri": "https://localhost:8080/"
        }
      },
      "execution_count": null,
      "outputs": [
        {
          "output_type": "stream",
          "name": "stdout",
          "text": [
            "country           Australia  New Zealand\n",
            "gdpPercap_1952  10039.59564  10556.57566\n",
            "gdpPercap_1957  10949.64959  12247.39532\n",
            "gdpPercap_1962  12217.22686  13175.67800\n",
            "gdpPercap_1967  14526.12465  14463.91893\n",
            "gdpPercap_1972  16788.62948  16046.03728\n",
            "gdpPercap_1977  18334.19751  16233.71770\n",
            "gdpPercap_1982  19477.00928  17632.41040\n",
            "gdpPercap_1987  21888.88903  19007.19129\n",
            "gdpPercap_1992  23424.76683  18363.32494\n",
            "gdpPercap_1997  26997.93657  21050.41377\n",
            "gdpPercap_2002  30687.75473  23189.80135\n",
            "gdpPercap_2007  34435.36744  25185.00911\n"
          ]
        }
      ]
    },
    {
      "cell_type": "code",
      "source": [
        "print(data.describe())"
      ],
      "metadata": {
        "id": "_-97zxrNy0t-",
        "outputId": "92eebd85-e499-4c16-81b9-424a6c949dcc",
        "colab": {
          "base_uri": "https://localhost:8080/"
        }
      },
      "execution_count": null,
      "outputs": [
        {
          "output_type": "stream",
          "name": "stdout",
          "text": [
            "       gdpPercap_1952  gdpPercap_1957  gdpPercap_1962  gdpPercap_1967  \\\n",
            "count        2.000000        2.000000        2.000000        2.000000   \n",
            "mean     10298.085650    11598.522455    12696.452430    14495.021790   \n",
            "std        365.560078      917.644806      677.727301       43.986086   \n",
            "min      10039.595640    10949.649590    12217.226860    14463.918930   \n",
            "25%      10168.840645    11274.086022    12456.839645    14479.470360   \n",
            "50%      10298.085650    11598.522455    12696.452430    14495.021790   \n",
            "75%      10427.330655    11922.958888    12936.065215    14510.573220   \n",
            "max      10556.575660    12247.395320    13175.678000    14526.124650   \n",
            "\n",
            "       gdpPercap_1972  gdpPercap_1977  gdpPercap_1982  gdpPercap_1987  \\\n",
            "count         2.00000        2.000000        2.000000        2.000000   \n",
            "mean      16417.33338    17283.957605    18554.709840    20448.040160   \n",
            "std         525.09198     1485.263517     1304.328377     2037.668013   \n",
            "min       16046.03728    16233.717700    17632.410400    19007.191290   \n",
            "25%       16231.68533    16758.837652    18093.560120    19727.615725   \n",
            "50%       16417.33338    17283.957605    18554.709840    20448.040160   \n",
            "75%       16602.98143    17809.077558    19015.859560    21168.464595   \n",
            "max       16788.62948    18334.197510    19477.009280    21888.889030   \n",
            "\n",
            "       gdpPercap_1992  gdpPercap_1997  gdpPercap_2002  gdpPercap_2007  \n",
            "count        2.000000        2.000000        2.000000        2.000000  \n",
            "mean     20894.045885    24024.175170    26938.778040    29810.188275  \n",
            "std       3578.979883     4205.533703     5301.853680     6540.991104  \n",
            "min      18363.324940    21050.413770    23189.801350    25185.009110  \n",
            "25%      19628.685412    22537.294470    25064.289695    27497.598692  \n",
            "50%      20894.045885    24024.175170    26938.778040    29810.188275  \n",
            "75%      22159.406358    25511.055870    28813.266385    32122.777858  \n",
            "max      23424.766830    26997.936570    30687.754730    34435.367440  \n"
          ]
        }
      ]
    },
    {
      "cell_type": "code",
      "source": [
        "data.columns = years.astype(int)"
      ],
      "metadata": {
        "id": "K_DC4Uovy755"
      },
      "execution_count": null,
      "outputs": []
    },
    {
      "cell_type": "code",
      "source": [
        "print(data.columns)"
      ],
      "metadata": {
        "id": "arldJ_DzzGKO",
        "outputId": "71e41c80-5e67-45f0-feb0-238e86d1940b",
        "colab": {
          "base_uri": "https://localhost:8080/"
        }
      },
      "execution_count": null,
      "outputs": [
        {
          "output_type": "stream",
          "name": "stdout",
          "text": [
            "Int64Index([1952, 1957, 1962, 1967, 1972, 1977, 1982, 1987, 1992, 1997, 2002,\n",
            "            2007],\n",
            "           dtype='int64')\n"
          ]
        }
      ]
    },
    {
      "cell_type": "code",
      "source": [
        "data.plot()"
      ],
      "metadata": {
        "id": "Q1fhjt7bzLL7",
        "outputId": "185c9df9-1fa6-494b-be1c-7e5041a85fbf",
        "colab": {
          "base_uri": "https://localhost:8080/",
          "height": 316
        }
      },
      "execution_count": null,
      "outputs": [
        {
          "output_type": "execute_result",
          "data": {
            "text/plain": [
              "<matplotlib.axes._subplots.AxesSubplot at 0x7f8931c8fa50>"
            ]
          },
          "metadata": {},
          "execution_count": 58
        },
        {
          "output_type": "display_data",
          "data": {
            "text/plain": [
              "<Figure size 432x288 with 1 Axes>"
            ],
            "image/png": "[encoded data removed]"
          },
          "metadata": {
            "needs_background": "light"
          }
        }
      ]
    },
    {
      "cell_type": "markdown",
      "source": [
        "The use of the [ ] indicates an index"
      ],
      "metadata": {
        "id": "8rGOfFk1zicP"
      }
    },
    {
      "cell_type": "code",
      "source": [
        "data.loc['Australia'].plot()"
      ],
      "metadata": {
        "id": "8tSiP68RzYQ7",
        "outputId": "b3db3430-4bb9-41b5-da5d-db594a6655cd",
        "colab": {
          "base_uri": "https://localhost:8080/",
          "height": 302
        }
      },
      "execution_count": null,
      "outputs": [
        {
          "output_type": "execute_result",
          "data": {
            "text/plain": [
              "<matplotlib.axes._subplots.AxesSubplot at 0x7f8931bd0c10>"
            ]
          },
          "metadata": {},
          "execution_count": 60
        },
        {
          "output_type": "display_data",
          "data": {
            "text/plain": [
              "<Figure size 432x288 with 1 Axes>"
            ],
            "image/png": "[encoded data removed]"
          },
          "metadata": {
            "needs_background": "light"
          }
        }
      ]
    },
    {
      "cell_type": "code",
      "source": [
        "data.T.plot()\n",
        "plt.ylabel('GDP/capita')\n",
        "plt.xlabel('Year')"
      ],
      "metadata": {
        "id": "1TYlyob80f7u",
        "outputId": "bb665959-45f8-4526-92b8-9f56feb45ba7",
        "colab": {
          "base_uri": "https://localhost:8080/",
          "height": 316
        }
      },
      "execution_count": null,
      "outputs": [
        {
          "output_type": "execute_result",
          "data": {
            "text/plain": [
              "Text(0.5, 0, 'Year')"
            ]
          },
          "metadata": {},
          "execution_count": 64
        },
        {
          "output_type": "display_data",
          "data": {
            "text/plain": [
              "<Figure size 432x288 with 1 Axes>"
            ],
            "image/png": "[encoded data removed]"
          },
          "metadata": {
            "needs_background": "light"
          }
        }
      ]
    },
    {
      "cell_type": "code",
      "source": [
        "plt.style.use('ggplot')\n",
        "data.T.plot()\n",
        "plt.ylabel('GDP/capita')\n",
        "plt.xlabel('Year')"
      ],
      "metadata": {
        "id": "ZSAEkFID06e-",
        "outputId": "b4820f1c-a022-413f-e364-f92cc28a26cd",
        "colab": {
          "base_uri": "https://localhost:8080/",
          "height": 320
        }
      },
      "execution_count": null,
      "outputs": [
        {
          "output_type": "execute_result",
          "data": {
            "text/plain": [
              "Text(0.5, 0, 'Year')"
            ]
          },
          "metadata": {},
          "execution_count": 65
        },
        {
          "output_type": "display_data",
          "data": {
            "text/plain": [
              "<Figure size 432x288 with 1 Axes>"
            ],
            "image/png": "[encoded data removed]"
          },
          "metadata": {}
        }
      ]
    },
    {
      "cell_type": "markdown",
      "source": [
        "Why put stuff in parentheses?\n",
        "It can tell you a type of outcome based on what you are using."
      ],
      "metadata": {
        "id": "HqsjgLx_1K_V"
      }
    },
    {
      "cell_type": "code",
      "source": [
        "plt.style.use('ggplot')\n",
        "data.T.plot(kind='bar')\n",
        "plt.ylabel('GDP/capita')\n",
        "plt.xlabel('Year')"
      ],
      "metadata": {
        "id": "R_Kbw5981NZw",
        "outputId": "ba0890f2-51dd-400c-94e0-cedf53d5648a",
        "colab": {
          "base_uri": "https://localhost:8080/",
          "height": 335
        }
      },
      "execution_count": null,
      "outputs": [
        {
          "output_type": "execute_result",
          "data": {
            "text/plain": [
              "Text(0.5, 0, 'Year')"
            ]
          },
          "metadata": {},
          "execution_count": 67
        },
        {
          "output_type": "display_data",
          "data": {
            "text/plain": [
              "<Figure size 432x288 with 1 Axes>"
            ],
            "image/png": "[encoded data removed]"
          },
          "metadata": {}
        }
      ]
    },
    {
      "cell_type": "markdown",
      "source": [
        "To get a dotted line & change the color use\n",
        "```\n",
        "--\n",
        "```\n",
        "and the first letter of the color you want to use"
      ],
      "metadata": {
        "id": "ghMEcpj31iFw"
      }
    },
    {
      "cell_type": "code",
      "source": [
        "plt.plot(time,response, 'g--')"
      ],
      "metadata": {
        "id": "MT22jkox1aZq",
        "outputId": "7377daa5-23d5-4b06-b78d-b6799cf88ba9",
        "colab": {
          "base_uri": "https://localhost:8080/",
          "height": 302
        }
      },
      "execution_count": null,
      "outputs": [
        {
          "output_type": "execute_result",
          "data": {
            "text/plain": [
              "[<matplotlib.lines.Line2D at 0x7f893176a690>]"
            ]
          },
          "metadata": {},
          "execution_count": 68
        },
        {
          "output_type": "display_data",
          "data": {
            "text/plain": [
              "<Figure size 432x288 with 1 Axes>"
            ],
            "image/png": "[encoded data removed]"
          },
          "metadata": {}
        }
      ]
    },
    {
      "cell_type": "markdown",
      "source": [
        "To create a dot plot use:\n",
        "```\n",
        "plt.plot(time,response, 'o')\n",
        "```"
      ],
      "metadata": {
        "id": "qMas6ioH1_Tb"
      }
    },
    {
      "cell_type": "code",
      "source": [
        "plt.plot(time,response, 'o--')"
      ],
      "metadata": {
        "id": "tSTbxtWL1tMn",
        "outputId": "a2a0eba1-cea9-4ff3-b1aa-f56afb4ec4a7",
        "colab": {
          "base_uri": "https://localhost:8080/",
          "height": 302
        }
      },
      "execution_count": null,
      "outputs": [
        {
          "output_type": "execute_result",
          "data": {
            "text/plain": [
              "[<matplotlib.lines.Line2D at 0x7f8931be8650>]"
            ]
          },
          "metadata": {},
          "execution_count": 70
        },
        {
          "output_type": "display_data",
          "data": {
            "text/plain": [
              "<Figure size 432x288 with 1 Axes>"
            ],
            "image/png": "[encoded data removed]"
          },
          "metadata": {}
        }
      ]
    },
    {
      "cell_type": "code",
      "source": [
        "gdp_australia = data.loc['Australia']\n",
        "gdp_nz = data.loc['New Zealand']\n",
        "\n",
        "plt.plot(years, gdp_australia, 'g--', label= 'Australia')\n",
        "plt.plot(years, gdp_nz, 'o-', label= 'New Zealand')\n",
        "\n",
        "plt.legend(loc='lower right')\n",
        "plt.ylabel('GDP/capita')\n",
        "plt.xlabel('Year')"
      ],
      "metadata": {
        "id": "MlPqQtXN2Tk3",
        "outputId": "51084a83-1d2c-474e-f190-f6d82ccf99bb",
        "colab": {
          "base_uri": "https://localhost:8080/",
          "height": 320
        }
      },
      "execution_count": null,
      "outputs": [
        {
          "output_type": "execute_result",
          "data": {
            "text/plain": [
              "Text(0.5, 0, 'Year')"
            ]
          },
          "metadata": {},
          "execution_count": 83
        },
        {
          "output_type": "display_data",
          "data": {
            "text/plain": [
              "<Figure size 432x288 with 1 Axes>"
            ],
            "image/png": "[encoded data removed]"
          },
          "metadata": {}
        }
      ]
    },
    {
      "cell_type": "code",
      "source": [
        "plt.scatter(gdp_australia,gdp_nz)"
      ],
      "metadata": {
        "id": "pl7eaDsG3Uu0",
        "outputId": "01a822e4-4143-49cf-ca3b-3b8e196cadcf",
        "colab": {
          "base_uri": "https://localhost:8080/",
          "height": 302
        }
      },
      "execution_count": null,
      "outputs": [
        {
          "output_type": "execute_result",
          "data": {
            "text/plain": [
              "<matplotlib.collections.PathCollection at 0x7f89314fbad0>"
            ]
          },
          "metadata": {},
          "execution_count": 82
        },
        {
          "output_type": "display_data",
          "data": {
            "text/plain": [
              "<Figure size 432x288 with 1 Axes>"
            ],
            "image/png": "[encoded data removed]"
          },
          "metadata": {}
        }
      ]
    },
    {
      "cell_type": "markdown",
      "source": [
        "To get rid of the gg plot use:\n",
        "```\n",
        "plt.style.use()\n",
        "```"
      ],
      "metadata": {
        "id": "Qbk9wWGa34qP"
      }
    },
    {
      "cell_type": "code",
      "source": [
        "plt.style.use('default')\n",
        "\n",
        "gdp_australia = data.loc['Australia']\n",
        "gdp_nz = data.loc['New Zealand']\n",
        "\n",
        "plt.plot(years, gdp_australia, 'g--', label= 'Australia')\n",
        "plt.plot(years, gdp_nz, 'p-', label= 'New Zealand')\n",
        "\n",
        "plt.legend(loc='lower right')\n",
        "plt.ylabel('GDP/capita')\n",
        "plt.xlabel('Year')"
      ],
      "metadata": {
        "id": "7dX_bPfm39ZK",
        "outputId": "7b0aa802-940f-438c-b6e3-f437cd77c533",
        "colab": {
          "base_uri": "https://localhost:8080/",
          "height": 486
        }
      },
      "execution_count": null,
      "outputs": [
        {
          "output_type": "execute_result",
          "data": {
            "text/plain": [
              "Text(0.5, 0, 'Year')"
            ]
          },
          "metadata": {},
          "execution_count": 87
        },
        {
          "output_type": "display_data",
          "data": {
            "text/plain": [
              "<Figure size 640x480 with 1 Axes>"
            ],
            "image/png": "[encoded data removed]"
          },
          "metadata": {}
        }
      ]
    },
    {
      "cell_type": "code",
      "source": [
        "print(plt.style.available)"
      ],
      "metadata": {
        "id": "0igCPYVp4eoe",
        "outputId": "1455dc3c-76f1-4f31-b476-b6271e43b744",
        "colab": {
          "base_uri": "https://localhost:8080/"
        }
      },
      "execution_count": null,
      "outputs": [
        {
          "output_type": "stream",
          "name": "stdout",
          "text": [
            "['Solarize_Light2', '_classic_test_patch', 'bmh', 'classic', 'dark_background', 'fast', 'fivethirtyeight', 'ggplot', 'grayscale', 'seaborn', 'seaborn-bright', 'seaborn-colorblind', 'seaborn-dark', 'seaborn-dark-palette', 'seaborn-darkgrid', 'seaborn-deep', 'seaborn-muted', 'seaborn-notebook', 'seaborn-paper', 'seaborn-pastel', 'seaborn-poster', 'seaborn-talk', 'seaborn-ticks', 'seaborn-white', 'seaborn-whitegrid', 'tableau-colorblind10']\n"
          ]
        }
      ]
    },
    {
      "cell_type": "code",
      "source": [
        "plt.style.use('dark_background')\n",
        "\n",
        "gdp_australia = data.loc['Australia']\n",
        "gdp_nz = data.loc['New Zealand']\n",
        "\n",
        "plt.plot(years, gdp_australia, 'g--', label= 'Australia')\n",
        "plt.plot(years, gdp_nz, 'p-', label= 'New Zealand')\n",
        "\n",
        "plt.legend(loc='lower right')\n",
        "plt.ylabel('GDP/capita')\n",
        "plt.xlabel('Year')"
      ],
      "metadata": {
        "id": "COHnYkkB4pWe",
        "outputId": "e92967e6-4049-4e5a-cffa-f7a0dffae58e",
        "colab": {
          "base_uri": "https://localhost:8080/",
          "height": 500
        }
      },
      "execution_count": null,
      "outputs": [
        {
          "output_type": "execute_result",
          "data": {
            "text/plain": [
              "Text(0.5, 0, 'Year')"
            ]
          },
          "metadata": {},
          "execution_count": 97
        },
        {
          "output_type": "display_data",
          "data": {
            "text/plain": [
              "<Figure size 640x480 with 1 Axes>"
            ],
            "image/png": "[encoded data removed]"
          },
          "metadata": {}
        }
      ]
    },
    {
      "cell_type": "markdown",
      "source": [
        "### Fancier Plotting and Stats"
      ],
      "metadata": {
        "id": "alJw76XC89cz"
      }
    },
    {
      "cell_type": "markdown",
      "source": [
        "Creating random distributions\n",
        "\n",
        "- numpy allows mathemathical operations/statistics"
      ],
      "metadata": {
        "id": "UKnFld3i8_9r"
      }
    },
    {
      "cell_type": "code",
      "source": [
        "%matplotlib inline\n",
        "import matplotlib.pyplot as plt\n",
        "\n",
        "import numpy as np\n",
        "\n",
        "randx= np.random.randint(0,1000,size=100)\n",
        "print(randx)"
      ],
      "metadata": {
        "id": "wS4fVBux9UQI",
        "outputId": "ad8e5d2a-57cf-4713-a9b7-fb966a029cf7",
        "colab": {
          "base_uri": "https://localhost:8080/"
        }
      },
      "execution_count": 5,
      "outputs": [
        {
          "output_type": "stream",
          "name": "stdout",
          "text": [
            "[229 139 328  28  37 897 812 443 813 967 887 785 726 596 448 265 348 678\n",
            " 806 565 407  35 756  85 938 743 465 544 374 780 798 981 275 906 909 122\n",
            " 884  53 171 631 427 527 445 272 229 821 337  93 764 273 216 871 352 664\n",
            " 395 882 369 196 528 180 604 690 749 284 192 545 402 124 250 540  32 441\n",
            " 896 128 831 380 847 178 558 929 436  58 125 719 152  47 340 620 309 502\n",
            "  12 394 235 185 196 271 817 328 921 886]\n"
          ]
        }
      ]
    },
    {
      "cell_type": "code",
      "source": [
        "randy= np.random.randint(0,1000, size=100)\n",
        "print(randy)"
      ],
      "metadata": {
        "id": "_SCHBYO9-Twx",
        "outputId": "6fbd8ecd-8554-4473-ce1f-6c30a62cefe3",
        "colab": {
          "base_uri": "https://localhost:8080/"
        }
      },
      "execution_count": 7,
      "outputs": [
        {
          "output_type": "stream",
          "name": "stdout",
          "text": [
            "[108 480 140 949 821 121 897   0 432  54 401 324 323 612 275 792 178 606\n",
            "  87 812 556 679 935 944 409 675 715 688  79 690 104 308 109  99 869 444\n",
            " 510 489 259 617 770 389 751 913 702 596 490 561  97 547 968 111 771 742\n",
            " 899 297 202 903 751 157 749 442  55 313 723 315 430 672  94 970 722 647\n",
            " 278 730 776 960 190 282 413 228 331 590 723 607 884 209 229 754 830 179\n",
            "  87 385 862 592 578 573 998 952 275 332]\n"
          ]
        }
      ]
    },
    {
      "cell_type": "markdown",
      "source": [
        "To plot your random sample data, use:\n",
        "```\n",
        "plt.style.use(\"name_style\")\n",
        "plt.type_plot(samplex,sampley)\n",
        "```"
      ],
      "metadata": {
        "id": "0xPVkdHc_t65"
      }
    },
    {
      "cell_type": "code",
      "source": [
        "plt.style.use(\"Solarize_Light2\")\n",
        "plt.scatter(randx,randy)"
      ],
      "metadata": {
        "id": "SRe3u2MJ-mGw",
        "outputId": "8667197f-df6e-4576-9d44-6a8b9ca46bef",
        "colab": {
          "base_uri": "https://localhost:8080/",
          "height": 282
        }
      },
      "execution_count": 10,
      "outputs": [
        {
          "output_type": "execute_result",
          "data": {
            "text/plain": [
              "<matplotlib.collections.PathCollection at 0x7f8000b44cd0>"
            ]
          },
          "metadata": {},
          "execution_count": 10
        },
        {
          "output_type": "display_data",
          "data": {
            "text/plain": [
              "<Figure size 432x288 with 1 Axes>"
            ],
            "image/png": "[encoded data removed]"
          },
          "metadata": {}
        }
      ]
    },
    {
      "cell_type": "markdown",
      "source": [
        "To determine the correlation between random data use:\n",
        "```\n",
        "np.corrcoef(samplex,sampley\n",
        "```"
      ],
      "metadata": {
        "id": "fKYX0cZc_kvQ"
      }
    },
    {
      "cell_type": "code",
      "source": [
        "np.corrcoef(randx,randy)"
      ],
      "metadata": {
        "id": "VO7En_87_U_K",
        "outputId": "8fa8fb58-cac5-40ca-c882-db6680f4cbf8",
        "colab": {
          "base_uri": "https://localhost:8080/"
        }
      },
      "execution_count": 11,
      "outputs": [
        {
          "output_type": "execute_result",
          "data": {
            "text/plain": [
              "array([[ 1.        , -0.23211198],\n",
              "       [-0.23211198,  1.        ]])"
            ]
          },
          "metadata": {},
          "execution_count": 11
        }
      ]
    },
    {
      "cell_type": "markdown",
      "source": [
        "To make a line of best fit import seaborn package & pandas package, and an empty data frame:\n",
        "```\n",
        "rand_df=pd.DataFrame()\n",
        "```"
      ],
      "metadata": {
        "id": "9V0RY8hu_3Sc"
      }
    },
    {
      "cell_type": "code",
      "source": [
        "import pandas as pd\n",
        "import seaborn as sns\n",
        "\n",
        "rand_df=pd.DataFrame()\n",
        "\n",
        "rand_df[\"x\"]=randx\n",
        "rand_df[\"y\"]=randy\n",
        "\n",
        "print(rand_df)"
      ],
      "metadata": {
        "id": "1RIC3XFp_5gv",
        "outputId": "f4b937c7-94c2-47fc-ab09-03478adcf7ce",
        "colab": {
          "base_uri": "https://localhost:8080/"
        }
      },
      "execution_count": 15,
      "outputs": [
        {
          "output_type": "stream",
          "name": "stdout",
          "text": [
            "      x    y\n",
            "0   229  108\n",
            "1   139  480\n",
            "2   328  140\n",
            "3    28  949\n",
            "4    37  821\n",
            "..  ...  ...\n",
            "95  271  573\n",
            "96  817  998\n",
            "97  328  952\n",
            "98  921  275\n",
            "99  886  332\n",
            "\n",
            "[100 rows x 2 columns]\n"
          ]
        }
      ]
    },
    {
      "cell_type": "code",
      "source": [
        "plt.scatter(\"x\",\"y\", data=rand_df)"
      ],
      "metadata": {
        "id": "6UDrLmRfAolq",
        "outputId": "a8d50af3-a146-46b7-f90e-dfa1196911d1",
        "colab": {
          "base_uri": "https://localhost:8080/",
          "height": 282
        }
      },
      "execution_count": 16,
      "outputs": [
        {
          "output_type": "execute_result",
          "data": {
            "text/plain": [
              "<matplotlib.collections.PathCollection at 0x7f7ff4794950>"
            ]
          },
          "metadata": {},
          "execution_count": 16
        },
        {
          "output_type": "display_data",
          "data": {
            "text/plain": [
              "<Figure size 432x288 with 1 Axes>"
            ],
            "image/png": "[encoded data removed]"
          },
          "metadata": {}
        }
      ]
    },
    {
      "cell_type": "markdown",
      "source": [
        "To add a regression line, use seaborn:\n",
        "```\n",
        "sns.regplot(\"x\",\"y\", data=rand_df)\n",
        "```"
      ],
      "metadata": {
        "id": "nF96puB8Aw9o"
      }
    },
    {
      "cell_type": "code",
      "source": [
        "sns.regplot(\"x\",\"y\", data=rand_df)"
      ],
      "metadata": {
        "id": "UYj-A0K2A5Me",
        "outputId": "bbc5d85c-6048-4711-f4d4-63ce3fbda92a",
        "colab": {
          "base_uri": "https://localhost:8080/",
          "height": 353
        }
      },
      "execution_count": 17,
      "outputs": [
        {
          "output_type": "stream",
          "name": "stderr",
          "text": [
            "/usr/local/lib/python3.7/dist-packages/seaborn/_decorators.py:43: FutureWarning: Pass the following variables as keyword args: x, y. From version 0.12, the only valid positional argument will be `data`, and passing other arguments without an explicit keyword will result in an error or misinterpretation.\n",
            "  FutureWarning\n"
          ]
        },
        {
          "output_type": "execute_result",
          "data": {
            "text/plain": [
              "<matplotlib.axes._subplots.AxesSubplot at 0x7f7ff3ce5a10>"
            ]
          },
          "metadata": {},
          "execution_count": 17
        },
        {
          "output_type": "display_data",
          "data": {
            "text/plain": [
              "<Figure size 432x288 with 1 Axes>"
            ],
            "image/png": "[encoded data removed]"
          },
          "metadata": {}
        }
      ]
    },
    {
      "cell_type": "markdown",
      "source": [
        "To do a linear model plot use:\n",
        "```\n",
        "sns.lmplot(\"x\",\"y\", data=rand_df)\n",
        "```"
      ],
      "metadata": {
        "id": "1Jo1MuhxA_B2"
      }
    },
    {
      "cell_type": "code",
      "source": [
        "sns.lmplot(\"x\",\"y\", data=rand_df)"
      ],
      "metadata": {
        "id": "OZyQuuAIBEsp",
        "outputId": "e3cae3af-8598-45af-dd1d-642a578bffdd",
        "colab": {
          "base_uri": "https://localhost:8080/",
          "height": 440
        }
      },
      "execution_count": 21,
      "outputs": [
        {
          "output_type": "stream",
          "name": "stderr",
          "text": [
            "/usr/local/lib/python3.7/dist-packages/seaborn/_decorators.py:43: FutureWarning: Pass the following variables as keyword args: x, y. From version 0.12, the only valid positional argument will be `data`, and passing other arguments without an explicit keyword will result in an error or misinterpretation.\n",
            "  FutureWarning\n"
          ]
        },
        {
          "output_type": "execute_result",
          "data": {
            "text/plain": [
              "<seaborn.axisgrid.FacetGrid at 0x7f7ff37609d0>"
            ]
          },
          "metadata": {},
          "execution_count": 21
        },
        {
          "output_type": "display_data",
          "data": {
            "text/plain": [
              "<Figure size 360x360 with 1 Axes>"
            ],
            "image/png": "[encoded data removed]"
          },
          "metadata": {}
        }
      ]
    },
    {
      "cell_type": "code",
      "source": [
        "sns.kdeplot(rand_df.x, rand_df.y)"
      ],
      "metadata": {
        "id": "P8lZafCLBKoe",
        "outputId": "bdebdaae-687d-47e6-9516-d353292a75d1",
        "colab": {
          "base_uri": "https://localhost:8080/",
          "height": 353
        }
      },
      "execution_count": 20,
      "outputs": [
        {
          "output_type": "stream",
          "name": "stderr",
          "text": [
            "/usr/local/lib/python3.7/dist-packages/seaborn/_decorators.py:43: FutureWarning: Pass the following variable as a keyword arg: y. From version 0.12, the only valid positional argument will be `data`, and passing other arguments without an explicit keyword will result in an error or misinterpretation.\n",
            "  FutureWarning\n"
          ]
        },
        {
          "output_type": "execute_result",
          "data": {
            "text/plain": [
              "<matplotlib.axes._subplots.AxesSubplot at 0x7f7ff3a939d0>"
            ]
          },
          "metadata": {},
          "execution_count": 20
        },
        {
          "output_type": "display_data",
          "data": {
            "text/plain": [
              "<Figure size 432x288 with 1 Axes>"
            ],
            "image/png": "[encoded data removed]"
          },
          "metadata": {}
        }
      ]
    },
    {
      "cell_type": "markdown",
      "source": [
        "Making a bar plot, use:\n",
        "```\n",
        "sns.barplot(\"x\", data=rand_df)\n",
        "```"
      ],
      "metadata": {
        "id": "ztoiO_0FBds-"
      }
    },
    {
      "cell_type": "code",
      "source": [
        "sns.barplot(\"x\",data=rand_df)"
      ],
      "metadata": {
        "id": "neqTXiOkBuxM",
        "outputId": "60cfda23-edee-4c0e-ed40-ecc3d3099374",
        "colab": {
          "base_uri": "https://localhost:8080/",
          "height": 353
        }
      },
      "execution_count": 25,
      "outputs": [
        {
          "output_type": "stream",
          "name": "stderr",
          "text": [
            "/usr/local/lib/python3.7/dist-packages/seaborn/_decorators.py:43: FutureWarning: Pass the following variable as a keyword arg: x. From version 0.12, the only valid positional argument will be `data`, and passing other arguments without an explicit keyword will result in an error or misinterpretation.\n",
            "  FutureWarning\n"
          ]
        },
        {
          "output_type": "execute_result",
          "data": {
            "text/plain": [
              "<matplotlib.axes._subplots.AxesSubplot at 0x7f7fef1d7810>"
            ]
          },
          "metadata": {},
          "execution_count": 25
        },
        {
          "output_type": "display_data",
          "data": {
            "text/plain": [
              "<Figure size 432x288 with 1 Axes>"
            ],
            "image/png": "[encoded data removed]"
          },
          "metadata": {}
        }
      ]
    },
    {
      "cell_type": "code",
      "source": [
        "sns.barplot(\"x\",\"y\", data=rand_df)"
      ],
      "metadata": {
        "id": "WsomuWT6BdEV",
        "outputId": "d57b8c4a-d725-45fd-dd7f-31c64bc8ba0a",
        "colab": {
          "base_uri": "https://localhost:8080/",
          "height": 353
        }
      },
      "execution_count": 23,
      "outputs": [
        {
          "output_type": "stream",
          "name": "stderr",
          "text": [
            "/usr/local/lib/python3.7/dist-packages/seaborn/_decorators.py:43: FutureWarning: Pass the following variables as keyword args: x, y. From version 0.12, the only valid positional argument will be `data`, and passing other arguments without an explicit keyword will result in an error or misinterpretation.\n",
            "  FutureWarning\n"
          ]
        },
        {
          "output_type": "execute_result",
          "data": {
            "text/plain": [
              "<matplotlib.axes._subplots.AxesSubplot at 0x7f7fef594f50>"
            ]
          },
          "metadata": {},
          "execution_count": 23
        },
        {
          "output_type": "display_data",
          "data": {
            "text/plain": [
              "<Figure size 432x288 with 1 Axes>"
            ],
            "image/png": "[encoded data removed]"
          },
          "metadata": {}
        }
      ]
    },
    {
      "cell_type": "code",
      "source": [
        "rand_df.describe()"
      ],
      "metadata": {
        "id": "NHzFE9S7Bz09",
        "outputId": "8dae59d0-9e19-4d49-af84-a44f8af1fe8c",
        "colab": {
          "base_uri": "https://localhost:8080/",
          "height": 297
        }
      },
      "execution_count": 26,
      "outputs": [
        {
          "output_type": "execute_result",
          "data": {
            "text/plain": [
              "                x           y\n",
              "count  100.000000  100.000000\n",
              "mean   476.480000  511.660000\n",
              "std    290.246725  286.269253\n",
              "min     12.000000    0.000000\n",
              "25%    229.000000  275.000000\n",
              "50%    438.500000  551.500000\n",
              "75%    758.000000  749.500000\n",
              "max    981.000000  998.000000"
            ],
            "text/html": [
              "\n",
              "  <div id=\"df-85106d52-b3a2-470c-8237-10fd856c7999\">\n",
              "    <div class=\"colab-df-container\">\n",
              "      <div>\n",
              "<style scoped>\n",
              "    .dataframe tbody tr th:only-of-type {\n",
              "        vertical-align: middle;\n",
              "    }\n",
              "\n",
              "    .dataframe tbody tr th {\n",
              "        vertical-align: top;\n",
              "    }\n",
              "\n",
              "    .dataframe thead th {\n",
              "        text-align: right;\n",
              "    }\n",
              "</style>\n",
              "<table border=\"1\" class=\"dataframe\">\n",
              "  <thead>\n",
              "    <tr style=\"text-align: right;\">\n",
              "      <th></th>\n",
              "      <th>x</th>\n",
              "      <th>y</th>\n",
              "    </tr>\n",
              "  </thead>\n",
              "  <tbody>\n",
              "    <tr>\n",
              "      <th>count</th>\n",
              "      <td>100.000000</td>\n",
              "      <td>100.000000</td>\n",
              "    </tr>\n",
              "    <tr>\n",
              "      <th>mean</th>\n",
              "      <td>476.480000</td>\n",
              "      <td>511.660000</td>\n",
              "    </tr>\n",
              "    <tr>\n",
              "      <th>std</th>\n",
              "      <td>290.246725</td>\n",
              "      <td>286.269253</td>\n",
              "    </tr>\n",
              "    <tr>\n",
              "      <th>min</th>\n",
              "      <td>12.000000</td>\n",
              "      <td>0.000000</td>\n",
              "    </tr>\n",
              "    <tr>\n",
              "      <th>25%</th>\n",
              "      <td>229.000000</td>\n",
              "      <td>275.000000</td>\n",
              "    </tr>\n",
              "    <tr>\n",
              "      <th>50%</th>\n",
              "      <td>438.500000</td>\n",
              "      <td>551.500000</td>\n",
              "    </tr>\n",
              "    <tr>\n",
              "      <th>75%</th>\n",
              "      <td>758.000000</td>\n",
              "      <td>749.500000</td>\n",
              "    </tr>\n",
              "    <tr>\n",
              "      <th>max</th>\n",
              "      <td>981.000000</td>\n",
              "      <td>998.000000</td>\n",
              "    </tr>\n",
              "  </tbody>\n",
              "</table>\n",
              "</div>\n",
              "      <button class=\"colab-df-convert\" onclick=\"convertToInteractive('df-85106d52-b3a2-470c-8237-10fd856c7999')\"\n",
              "              title=\"Convert this dataframe to an interactive table.\"\n",
              "              style=\"display:none;\">\n",
              "        \n",
              "  <svg xmlns=\"http://www.w3.org/2000/svg\" height=\"24px\"viewBox=\"0 0 24 24\"\n",
              "       width=\"24px\">\n",
              "    <path d=\"M0 0h24v24H0V0z\" fill=\"none\"/>\n",
              "    <path d=\"M18.56 5.44l.94 2.06.94-2.06 2.06-.94-2.06-.94-.94-2.06-.94 2.06-2.06.94zm-11 1L8.5 8.5l.94-2.06 2.06-.94-2.06-.94L8.5 2.5l-.94 2.06-2.06.94zm10 10l.94 2.06.94-2.06 2.06-.94-2.06-.94-.94-2.06-.94 2.06-2.06.94z\"/><path d=\"M17.41 7.96l-1.37-1.37c-.4-.4-.92-.59-1.43-.59-.52 0-1.04.2-1.43.59L10.3 9.45l-7.72 7.72c-.78.78-.78 2.05 0 2.83L4 21.41c.39.39.9.59 1.41.59.51 0 1.02-.2 1.41-.59l7.78-7.78 2.81-2.81c.8-.78.8-2.07 0-2.86zM5.41 20L4 18.59l7.72-7.72 1.47 1.35L5.41 20z\"/>\n",
              "  </svg>\n",
              "      </button>\n",
              "      \n",
              "  <style>\n",
              "    .colab-df-container {\n",
              "      display:flex;\n",
              "      flex-wrap:wrap;\n",
              "      gap: 12px;\n",
              "    }\n",
              "\n",
              "    .colab-df-convert {\n",
              "      background-color: #E8F0FE;\n",
              "      border: none;\n",
              "      border-radius: 50%;\n",
              "      cursor: pointer;\n",
              "      display: none;\n",
              "      fill: #1967D2;\n",
              "      height: 32px;\n",
              "      padding: 0 0 0 0;\n",
              "      width: 32px;\n",
              "    }\n",
              "\n",
              "    .colab-df-convert:hover {\n",
              "      background-color: #E2EBFA;\n",
              "      box-shadow: 0px 1px 2px rgba(60, 64, 67, 0.3), 0px 1px 3px 1px rgba(60, 64, 67, 0.15);\n",
              "      fill: #174EA6;\n",
              "    }\n",
              "\n",
              "    [theme=dark] .colab-df-convert {\n",
              "      background-color: #3B4455;\n",
              "      fill: #D2E3FC;\n",
              "    }\n",
              "\n",
              "    [theme=dark] .colab-df-convert:hover {\n",
              "      background-color: #434B5C;\n",
              "      box-shadow: 0px 1px 3px 1px rgba(0, 0, 0, 0.15);\n",
              "      filter: drop-shadow(0px 1px 2px rgba(0, 0, 0, 0.3));\n",
              "      fill: #FFFFFF;\n",
              "    }\n",
              "  </style>\n",
              "\n",
              "      <script>\n",
              "        const buttonEl =\n",
              "          document.querySelector('#df-85106d52-b3a2-470c-8237-10fd856c7999 button.colab-df-convert');\n",
              "        buttonEl.style.display =\n",
              "          google.colab.kernel.accessAllowed ? 'block' : 'none';\n",
              "\n",
              "        async function convertToInteractive(key) {\n",
              "          const element = document.querySelector('#df-85106d52-b3a2-470c-8237-10fd856c7999');\n",
              "          const dataTable =\n",
              "            await google.colab.kernel.invokeFunction('convertToInteractive',\n",
              "                                                     [key], {});\n",
              "          if (!dataTable) return;\n",
              "\n",
              "          const docLinkHtml = 'Like what you see? Visit the ' +\n",
              "            '<a target=\"_blank\" href=https://colab.research.google.com/notebooks/data_table.ipynb>data table notebook</a>'\n",
              "            + ' to learn more about interactive tables.';\n",
              "          element.innerHTML = '';\n",
              "          dataTable['output_type'] = 'display_data';\n",
              "          await google.colab.output.renderOutput(dataTable, element);\n",
              "          const docLink = document.createElement('div');\n",
              "          docLink.innerHTML = docLinkHtml;\n",
              "          element.appendChild(docLink);\n",
              "        }\n",
              "      </script>\n",
              "    </div>\n",
              "  </div>\n",
              "  "
            ]
          },
          "metadata": {},
          "execution_count": 26
        }
      ]
    },
    {
      "cell_type": "markdown",
      "source": [
        "To make a box-n-whisker plot use:\n",
        "```\n",
        "sns.boxplot(rand_df.x)\n",
        "```\n",
        "or\n",
        "```\n",
        "sns.boxplot(rand_df.y)\n",
        "```\n",
        "However, it doesn't show you the distribution within the data itself"
      ],
      "metadata": {
        "id": "fNS5IXc-B_lo"
      }
    },
    {
      "cell_type": "code",
      "source": [
        "sns.boxplot(rand_df.x)"
      ],
      "metadata": {
        "id": "Wtb73mZ0B3Ha",
        "outputId": "074a44e1-5c97-4632-be40-51d3c09c252c",
        "colab": {
          "base_uri": "https://localhost:8080/",
          "height": 353
        }
      },
      "execution_count": 27,
      "outputs": [
        {
          "output_type": "stream",
          "name": "stderr",
          "text": [
            "/usr/local/lib/python3.7/dist-packages/seaborn/_decorators.py:43: FutureWarning: Pass the following variable as a keyword arg: x. From version 0.12, the only valid positional argument will be `data`, and passing other arguments without an explicit keyword will result in an error or misinterpretation.\n",
            "  FutureWarning\n"
          ]
        },
        {
          "output_type": "execute_result",
          "data": {
            "text/plain": [
              "<matplotlib.axes._subplots.AxesSubplot at 0x7f7fef286b90>"
            ]
          },
          "metadata": {},
          "execution_count": 27
        },
        {
          "output_type": "display_data",
          "data": {
            "text/plain": [
              "<Figure size 432x288 with 1 Axes>"
            ],
            "image/png": "[encoded data removed]"
          },
          "metadata": {}
        }
      ]
    },
    {
      "cell_type": "code",
      "source": [
        "sns.boxplot(rand_df.y)"
      ],
      "metadata": {
        "id": "6NkoGi5jCc_E",
        "outputId": "c65dbd8f-b474-4205-9bca-829015e0fb10",
        "colab": {
          "base_uri": "https://localhost:8080/",
          "height": 353
        }
      },
      "execution_count": 29,
      "outputs": [
        {
          "output_type": "stream",
          "name": "stderr",
          "text": [
            "/usr/local/lib/python3.7/dist-packages/seaborn/_decorators.py:43: FutureWarning: Pass the following variable as a keyword arg: x. From version 0.12, the only valid positional argument will be `data`, and passing other arguments without an explicit keyword will result in an error or misinterpretation.\n",
            "  FutureWarning\n"
          ]
        },
        {
          "output_type": "execute_result",
          "data": {
            "text/plain": [
              "<matplotlib.axes._subplots.AxesSubplot at 0x7f7fef64f390>"
            ]
          },
          "metadata": {},
          "execution_count": 29
        },
        {
          "output_type": "display_data",
          "data": {
            "text/plain": [
              "<Figure size 432x288 with 1 Axes>"
            ],
            "image/png": "[encoded data removed]"
          },
          "metadata": {}
        }
      ]
    },
    {
      "cell_type": "markdown",
      "source": [
        "A violin plot shows the same as a box plot as well as the distribution:\n",
        "```\n",
        "sns.violinplot(rand_df.x)\n",
        "```\n",
        "or\n",
        "```\n",
        "sns.violinplot(rand_df.y)\n",
        "```"
      ],
      "metadata": {
        "id": "0zJXNII6CMDL"
      }
    },
    {
      "cell_type": "code",
      "source": [
        "sns.violinplot(rand_df.x)"
      ],
      "metadata": {
        "id": "q5RoH4gcCS-V",
        "outputId": "8c4185b9-8bef-407d-bf58-4051a06e1fe8",
        "colab": {
          "base_uri": "https://localhost:8080/",
          "height": 353
        }
      },
      "execution_count": 28,
      "outputs": [
        {
          "output_type": "stream",
          "name": "stderr",
          "text": [
            "/usr/local/lib/python3.7/dist-packages/seaborn/_decorators.py:43: FutureWarning: Pass the following variable as a keyword arg: x. From version 0.12, the only valid positional argument will be `data`, and passing other arguments without an explicit keyword will result in an error or misinterpretation.\n",
            "  FutureWarning\n"
          ]
        },
        {
          "output_type": "execute_result",
          "data": {
            "text/plain": [
              "<matplotlib.axes._subplots.AxesSubplot at 0x7f7ff3ef0090>"
            ]
          },
          "metadata": {},
          "execution_count": 28
        },
        {
          "output_type": "display_data",
          "data": {
            "text/plain": [
              "<Figure size 432x288 with 1 Axes>"
            ],
            "image/png": "[encoded data removed]"
          },
          "metadata": {}
        }
      ]
    },
    {
      "cell_type": "code",
      "source": [
        "sns.violinplot(rand_df.y)"
      ],
      "metadata": {
        "id": "KJU3h4x_CgNa",
        "outputId": "29431ce2-8ffe-4e84-8efb-c87b40e654c0",
        "colab": {
          "base_uri": "https://localhost:8080/",
          "height": 299
        }
      },
      "execution_count": 32,
      "outputs": [
        {
          "output_type": "execute_result",
          "data": {
            "text/plain": [
              "<matplotlib.axes._subplots.AxesSubplot at 0x7f7fef006690>"
            ]
          },
          "metadata": {},
          "execution_count": 32
        },
        {
          "output_type": "display_data",
          "data": {
            "text/plain": [
              "<Figure size 432x288 with 1 Axes>"
            ],
            "image/png": "[encoded data removed]"
          },
          "metadata": {}
        }
      ]
    },
    {
      "cell_type": "markdown",
      "source": [
        "**Bootstrapping**: Sampling with replacement; make a data set of the same size, but you have potential to get the same data point again. (I.e., pick ball out of bin, record it, place it back in same bin & try again)\n",
        "\n",
        "**Jacknifying**: Sampling without replacement; make smaller size data set & randomly choose which original data points are being included. (I.e., pick ball out of bin, record it, place it on the side & pick from remaining balls in bin)\n",
        "\n",
        "**_Note_**: Not identifying the outliars."
      ],
      "metadata": {
        "id": "i1uN5TEeDDT_"
      }
    },
    {
      "cell_type": "code",
      "source": [
        "!pip install py3Dmol\n",
        "import py3Dmol\n",
        "\n",
        "view=py3Dmol.view(query=\"pdb:2D2M\")\n",
        "view.setStyle({\"cartoon\":{\"color\":\"spectrum\"}})\n",
        "view"
      ],
      "metadata": {
        "id": "DyoY0AWYEHiy",
        "outputId": "ca15f19b-5b93-4fec-b946-c4163122ce64",
        "colab": {
          "base_uri": "https://localhost:8080/",
          "height": 548
        }
      },
      "execution_count": 44,
      "outputs": [
        {
          "output_type": "stream",
          "name": "stdout",
          "text": [
            "Looking in indexes: https://pypi.org/simple, https://us-python.pkg.dev/colab-wheels/public/simple/\n",
            "Requirement already satisfied: py3Dmol in /usr/local/lib/python3.7/dist-packages (1.8.1)\n"
          ]
        },
        {
          "output_type": "display_data",
          "data": {
            "application/3dmoljs_load.v0": "<div id=\"3dmolviewer_16632782776696022\"  style=\"position: relative; width: 640px; height: 480px\">\n        <p id=\"3dmolwarning_16632782776696022\" style=\"background-color:#ffcccc;color:black\">You appear to be running in JupyterLab (or JavaScript failed to load for some other reason).  You need to install the 3dmol extension: <br>\n        <tt>jupyter labextension install jupyterlab_3dmol</tt></p>\n        </div>\n<script>\n\nvar loadScriptAsync = function(uri){\n  return new Promise((resolve, reject) => {\n    var tag = document.createElement('script');\n    tag.src = uri;\n    tag.async = true;\n    tag.onload = () => {\n      resolve();\n    };\n  var firstScriptTag = document.getElementsByTagName('script')[0];\n  firstScriptTag.parentNode.insertBefore(tag, firstScriptTag);\n});\n};\n\nif(typeof $3Dmolpromise === 'undefined') {\n$3Dmolpromise = null;\n  $3Dmolpromise = loadScriptAsync('https://cdn.jsdelivr.net/npm/3dmol@latest/build/3Dmol-min.min.js');\n}\n\nvar viewer_16632782776696022 = null;\nvar warn = document.getElementById(\"3dmolwarning_16632782776696022\");\nif(warn) {\n    warn.parentNode.removeChild(warn);\n}\n$3Dmolpromise.then(function() {\nviewer_16632782776696022 = $3Dmol.createViewer($(\"#3dmolviewer_16632782776696022\"),{backgroundColor:\"white\"});\n$3Dmol.download(\"pdb:2D2M\", viewer_16632782776696022, {}, function() {\nviewer_16632782776696022.zoomTo();\n\tviewer_16632782776696022.setStyle({\"cartoon\": {\"color\": \"spectrum\"}});\nviewer_16632782776696022.render();\n})\n});\n</script>",
            "text/html": [
              "<div id=\"3dmolviewer_16632782776696022\"  style=\"position: relative; width: 640px; height: 480px\">\n",
              "        <p id=\"3dmolwarning_16632782776696022\" style=\"background-color:#ffcccc;color:black\">You appear to be running in JupyterLab (or JavaScript failed to load for some other reason).  You need to install the 3dmol extension: <br>\n",
              "        <tt>jupyter labextension install jupyterlab_3dmol</tt></p>\n",
              "        </div>\n",
              "<script>\n",
              "\n",
              "var loadScriptAsync = function(uri){\n",
              "  return new Promise((resolve, reject) => {\n",
              "    var tag = document.createElement('script');\n",
              "    tag.src = uri;\n",
              "    tag.async = true;\n",
              "    tag.onload = () => {\n",
              "      resolve();\n",
              "    };\n",
              "  var firstScriptTag = document.getElementsByTagName('script')[0];\n",
              "  firstScriptTag.parentNode.insertBefore(tag, firstScriptTag);\n",
              "});\n",
              "};\n",
              "\n",
              "if(typeof $3Dmolpromise === 'undefined') {\n",
              "$3Dmolpromise = null;\n",
              "  $3Dmolpromise = loadScriptAsync('https://cdn.jsdelivr.net/npm/3dmol@latest/build/3Dmol-min.min.js');\n",
              "}\n",
              "\n",
              "var viewer_16632782776696022 = null;\n",
              "var warn = document.getElementById(\"3dmolwarning_16632782776696022\");\n",
              "if(warn) {\n",
              "    warn.parentNode.removeChild(warn);\n",
              "}\n",
              "$3Dmolpromise.then(function() {\n",
              "viewer_16632782776696022 = $3Dmol.createViewer($(\"#3dmolviewer_16632782776696022\"),{backgroundColor:\"white\"});\n",
              "$3Dmol.download(\"pdb:2D2M\", viewer_16632782776696022, {}, function() {\n",
              "viewer_16632782776696022.zoomTo();\n",
              "\tviewer_16632782776696022.setStyle({\"cartoon\": {\"color\": \"spectrum\"}});\n",
              "viewer_16632782776696022.render();\n",
              "})\n",
              "});\n",
              "</script>"
            ]
          },
          "metadata": {}
        },
        {
          "output_type": "execute_result",
          "data": {
            "text/plain": [
              "<py3Dmol.view at 0x7f7fef280bd0>"
            ]
          },
          "metadata": {},
          "execution_count": 44
        }
      ]
    },
    {
      "cell_type": "code",
      "source": [],
      "metadata": {
        "id": "4BCDVosiFH97"
      },
      "execution_count": null,
      "outputs": []
    }
  ]
}
