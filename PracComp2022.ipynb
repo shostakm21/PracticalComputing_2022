{
  "nbformat": 4,
  "nbformat_minor": 0,
  "metadata": {
    "colab": {
      "provenance": [],
      "authorship_tag": "ABX9TyPLPdiRaq4HzOIGGnFkGSAl",
      "include_colab_link": true
    },
    "kernelspec": {
      "name": "python3",
      "display_name": "Python 3"
    },
    "language_info": {
      "name": "python"
    }
  },
  "cells": [
    {
      "cell_type": "markdown",
      "metadata": {
        "id": "view-in-github",
        "colab_type": "text"
      },
      "source": [
        "<a href=\"https://colab.research.google.com/github/shostakm21/PracticalComputing_2022/blob/master/PracComp2022.ipynb\" target=\"_parent\"><img src=\"https://colab.research.google.com/assets/colab-badge.svg\" alt=\"Open In Colab\"/></a>"
      ]
    },
    {
      "cell_type": "markdown",
      "source": [
        "# Basics\n"
      ],
      "metadata": {
        "id": "cv-WaLHX7gVd"
      }
    },
    {
      "cell_type": "markdown",
      "source": [
        "## Markdown Cont'd"
      ],
      "metadata": {
        "id": "b05_Vq8W73-8"
      }
    },
    {
      "cell_type": "markdown",
      "source": [
        "* Uses asterices to create bullet points (unordered) lists\n",
        "\n",
        "1. Use numbers to create ordered lists\n",
        "\n",
        "*Top level\n",
        "  * Indent 1\n",
        "    * Indent 1a\n",
        "\n",
        "Line \n",
        "breaks \n",
        "dont \n",
        "matter\n",
        "But _blank lines_ create new paragraphs\n",
        "\n",
        "[Field Lab](http://www.efieldlab.com)"
      ],
      "metadata": {
        "id": "JBUHEh3-8A_f"
      }
    },
    {
      "cell_type": "markdown",
      "source": [
        "## Python Basics"
      ],
      "metadata": {
        "id": "VAK_uZTg88io"
      }
    },
    {
      "cell_type": "markdown",
      "source": [
        "## Putting a hash mark in front of a command will turn it off (not run it)"
      ],
      "metadata": {
        "id": "HgRffZBN-8He"
      }
    },
    {
      "cell_type": "markdown",
      "source": [
        "## Variables\n",
        "\n",
        "First you must declare you variable."
      ],
      "metadata": {
        "id": "mffWb6948-7F"
      }
    },
    {
      "cell_type": "code",
      "source": [
        "myage = 25\n",
        "given_name = \"Maggie\"\n",
        "family_name = \"Shostak\""
      ],
      "metadata": {
        "id": "-BSeGq-C9Bjg"
      },
      "execution_count": 3,
      "outputs": []
    },
    {
      "cell_type": "code",
      "source": [
        "print(given_name, \"is\", myage, \"years old\")"
      ],
      "metadata": {
        "colab": {
          "base_uri": "https://localhost:8080/"
        },
        "id": "XX3f4Mj592Pf",
        "outputId": "88ef8f2d-455a-460b-a981-81dedb9da56e"
      },
      "execution_count": 5,
      "outputs": [
        {
          "output_type": "stream",
          "name": "stdout",
          "text": [
            "Maggie is 25 years old\n"
          ]
        }
      ]
    },
    {
      "cell_type": "markdown",
      "source": [
        "## Objects: Strings vs Integers"
      ],
      "metadata": {
        "id": "zt7DS2baAEQQ"
      }
    },
    {
      "cell_type": "code",
      "source": [
        "#type(myage)\n",
        "#type(given_name)\n",
        "\n",
        "print(type(myage), type(given_name))"
      ],
      "metadata": {
        "colab": {
          "base_uri": "https://localhost:8080/"
        },
        "id": "uur5LPeq-e2F",
        "outputId": "2cc57b40-3d73-4db0-b913-fc46e68dad73"
      },
      "execution_count": 8,
      "outputs": [
        {
          "output_type": "stream",
          "name": "stdout",
          "text": [
            "<class 'int'> <class 'str'>\n"
          ]
        }
      ]
    },
    {
      "cell_type": "markdown",
      "source": [
        "We can change the type of the variable by defining it as such"
      ],
      "metadata": {
        "id": "f7dZpSBJ_G-i"
      }
    },
    {
      "cell_type": "code",
      "source": [
        "myage_str = str(myage)\n",
        "\n",
        "type(myage_str)"
      ],
      "metadata": {
        "colab": {
          "base_uri": "https://localhost:8080/"
        },
        "id": "PSj6GTdR_JCF",
        "outputId": "cf69ad20-2cef-4918-ab16-1228e8673e17"
      },
      "execution_count": 10,
      "outputs": [
        {
          "output_type": "execute_result",
          "data": {
            "text/plain": [
              "str"
            ]
          },
          "metadata": {},
          "execution_count": 10
        }
      ]
    },
    {
      "cell_type": "code",
      "source": [
        "print(myage + 1)"
      ],
      "metadata": {
        "colab": {
          "base_uri": "https://localhost:8080/"
        },
        "id": "v-04hLD__YFd",
        "outputId": "6e7f3dcb-4e0d-4f53-82a1-92cde043990d"
      },
      "execution_count": 11,
      "outputs": [
        {
          "output_type": "stream",
          "name": "stdout",
          "text": [
            "26\n"
          ]
        }
      ]
    },
    {
      "cell_type": "code",
      "source": [
        "print(myage + myage)"
      ],
      "metadata": {
        "colab": {
          "base_uri": "https://localhost:8080/"
        },
        "id": "2w_y1UUq_dSq",
        "outputId": "e0840098-8cb8-4c9a-c5f4-dc644a5d57f4"
      },
      "execution_count": 13,
      "outputs": [
        {
          "output_type": "stream",
          "name": "stdout",
          "text": [
            "50\n"
          ]
        }
      ]
    },
    {
      "cell_type": "code",
      "source": [
        "print(myage_str + myage_str)"
      ],
      "metadata": {
        "colab": {
          "base_uri": "https://localhost:8080/"
        },
        "id": "o-dxPeGF_zkB",
        "outputId": "0837a16d-a3a2-453a-fd38-a762225dcdad"
      },
      "execution_count": 14,
      "outputs": [
        {
          "output_type": "stream",
          "name": "stdout",
          "text": [
            "2525\n"
          ]
        }
      ]
    },
    {
      "cell_type": "markdown",
      "source": [
        "## You can index you strings in python.\n",
        "\n",
        "**_Python starts counting at zero!_**"
      ],
      "metadata": {
        "id": "rAcfT3CM_8tH"
      }
    },
    {
      "cell_type": "code",
      "source": [
        "given_name[1]"
      ],
      "metadata": {
        "colab": {
          "base_uri": "https://localhost:8080/",
          "height": 37
        },
        "id": "yIAL1qTx_7_J",
        "outputId": "c683c73e-821d-4f34-b800-c222d29677fd"
      },
      "execution_count": 15,
      "outputs": [
        {
          "output_type": "execute_result",
          "data": {
            "text/plain": [
              "'a'"
            ],
            "application/vnd.google.colaboratory.intrinsic+json": {
              "type": "string"
            }
          },
          "metadata": {},
          "execution_count": 15
        }
      ]
    },
    {
      "cell_type": "code",
      "source": [
        "given_name[0]"
      ],
      "metadata": {
        "colab": {
          "base_uri": "https://localhost:8080/",
          "height": 37
        },
        "id": "Td9X7IcAAY1Y",
        "outputId": "eb45385c-e57c-4d12-bdc8-7eec3ea103d0"
      },
      "execution_count": 16,
      "outputs": [
        {
          "output_type": "execute_result",
          "data": {
            "text/plain": [
              "'M'"
            ],
            "application/vnd.google.colaboratory.intrinsic+json": {
              "type": "string"
            }
          },
          "metadata": {},
          "execution_count": 16
        }
      ]
    },
    {
      "cell_type": "code",
      "source": [
        "given_name[2:4]"
      ],
      "metadata": {
        "colab": {
          "base_uri": "https://localhost:8080/",
          "height": 37
        },
        "id": "0KI97KCiAbyb",
        "outputId": "6776f1b0-c387-47c4-d1be-9f3e54563050"
      },
      "execution_count": 17,
      "outputs": [
        {
          "output_type": "execute_result",
          "data": {
            "text/plain": [
              "'gg'"
            ],
            "application/vnd.google.colaboratory.intrinsic+json": {
              "type": "string"
            }
          },
          "metadata": {},
          "execution_count": 17
        }
      ]
    },
    {
      "cell_type": "code",
      "source": [
        "given_name[0:5]"
      ],
      "metadata": {
        "colab": {
          "base_uri": "https://localhost:8080/",
          "height": 37
        },
        "id": "0WhNwNGfAf24",
        "outputId": "818f178b-a05d-4113-afd1-1b349af26710"
      },
      "execution_count": 18,
      "outputs": [
        {
          "output_type": "execute_result",
          "data": {
            "text/plain": [
              "'Maggi'"
            ],
            "application/vnd.google.colaboratory.intrinsic+json": {
              "type": "string"
            }
          },
          "metadata": {},
          "execution_count": 18
        }
      ]
    },
    {
      "cell_type": "code",
      "source": [
        "given_name[1:]"
      ],
      "metadata": {
        "colab": {
          "base_uri": "https://localhost:8080/",
          "height": 37
        },
        "id": "0gSJtesJAwjT",
        "outputId": "b1e8be24-59f4-4e2b-f0eb-983b9f2d782c"
      },
      "execution_count": 19,
      "outputs": [
        {
          "output_type": "execute_result",
          "data": {
            "text/plain": [
              "'aggie'"
            ],
            "application/vnd.google.colaboratory.intrinsic+json": {
              "type": "string"
            }
          },
          "metadata": {},
          "execution_count": 19
        }
      ]
    },
    {
      "cell_type": "markdown",
      "source": [
        "### How to determine length of string **_(it does not start counting at zero)_**"
      ],
      "metadata": {
        "id": "_aXQzX_6A1eF"
      }
    },
    {
      "cell_type": "code",
      "source": [
        "len(given_name)"
      ],
      "metadata": {
        "colab": {
          "base_uri": "https://localhost:8080/"
        },
        "id": "eQypclsQA0Jz",
        "outputId": "47cf22cd-0739-435e-c32c-0d9509df231b"
      },
      "execution_count": 20,
      "outputs": [
        {
          "output_type": "execute_result",
          "data": {
            "text/plain": [
              "6"
            ]
          },
          "metadata": {},
          "execution_count": 20
        }
      ]
    },
    {
      "cell_type": "markdown",
      "source": [
        "## Math: Integers vs Floats\n",
        "Floats have decimal places"
      ],
      "metadata": {
        "id": "TEWO4TFXBCQK"
      }
    },
    {
      "cell_type": "code",
      "source": [
        "print(myage)"
      ],
      "metadata": {
        "colab": {
          "base_uri": "https://localhost:8080/"
        },
        "id": "0OUgIfa3BA3H",
        "outputId": "e9297189-c347-4ac1-fcff-edb7247b2cae"
      },
      "execution_count": 21,
      "outputs": [
        {
          "output_type": "stream",
          "name": "stdout",
          "text": [
            "25\n"
          ]
        }
      ]
    },
    {
      "cell_type": "code",
      "source": [
        "myage/4"
      ],
      "metadata": {
        "colab": {
          "base_uri": "https://localhost:8080/"
        },
        "id": "M7KGJaYgBJy9",
        "outputId": "1a3253cc-51d9-47c1-99cb-d138d4593c93"
      },
      "execution_count": 22,
      "outputs": [
        {
          "output_type": "execute_result",
          "data": {
            "text/plain": [
              "6.25"
            ]
          },
          "metadata": {},
          "execution_count": 22
        }
      ]
    },
    {
      "cell_type": "code",
      "source": [
        "type(myage/4)"
      ],
      "metadata": {
        "colab": {
          "base_uri": "https://localhost:8080/"
        },
        "id": "-52MUf5yBRIB",
        "outputId": "a4beb62e-2b02-42bf-d730-18eec698caf3"
      },
      "execution_count": 23,
      "outputs": [
        {
          "output_type": "execute_result",
          "data": {
            "text/plain": [
              "float"
            ]
          },
          "metadata": {},
          "execution_count": 23
        }
      ]
    },
    {
      "cell_type": "code",
      "source": [
        "float(myage)"
      ],
      "metadata": {
        "colab": {
          "base_uri": "https://localhost:8080/"
        },
        "id": "ZScqGKFrBWY7",
        "outputId": "f0aa6b51-5987-4940-f2b1-b27dc8f27fdb"
      },
      "execution_count": 24,
      "outputs": [
        {
          "output_type": "execute_result",
          "data": {
            "text/plain": [
              "25.0"
            ]
          },
          "metadata": {},
          "execution_count": 24
        }
      ]
    },
    {
      "cell_type": "code",
      "source": [
        "myage + float(myage)"
      ],
      "metadata": {
        "colab": {
          "base_uri": "https://localhost:8080/"
        },
        "id": "SZlSjt9FBnyb",
        "outputId": "de64420b-ed62-4610-83bf-d8d2576934d5"
      },
      "execution_count": 25,
      "outputs": [
        {
          "output_type": "execute_result",
          "data": {
            "text/plain": [
              "50.0"
            ]
          },
          "metadata": {},
          "execution_count": 25
        }
      ]
    },
    {
      "cell_type": "markdown",
      "source": [
        "## Basics Wrap-up"
      ],
      "metadata": {
        "id": "4Q4Oh7q3BuRX"
      }
    },
    {
      "cell_type": "code",
      "source": [
        "full_name_age = given_name+ 'O' +family_name+ 'is my full name, and I am' +str(myage)+ 'years old'"
      ],
      "metadata": {
        "id": "MLwz9LlIBx7R"
      },
      "execution_count": 35,
      "outputs": []
    },
    {
      "cell_type": "code",
      "source": [
        "print(full_name_age)"
      ],
      "metadata": {
        "colab": {
          "base_uri": "https://localhost:8080/"
        },
        "id": "IGTteSrYCie6",
        "outputId": "c60637a7-c55e-460b-ee56-d98cdef9309b"
      },
      "execution_count": 34,
      "outputs": [
        {
          "output_type": "stream",
          "name": "stdout",
          "text": [
            "MaggieOShostakis my full name, and I am25years old\n"
          ]
        }
      ]
    },
    {
      "cell_type": "markdown",
      "source": [
        "This error results because you have characters & integers together: \n",
        "\n",
        "**_TypeError                                 Traceback (most recent call last)\n",
        "<ipython-input-29-6a14459cc019> in <module>\n",
        "----> 1 full_name_age = given_name+ \"O\" +family_name+ \"is my full name, and I am\" +myage+ \"years old\"_**\n",
        "\n",
        "TypeError: can only concatenate str (not \"int\") to str"
      ],
      "metadata": {
        "id": "LQGrny_KCYlg"
      }
    },
    {
      "cell_type": "markdown",
      "source": [
        "## Math in Python"
      ],
      "metadata": {
        "id": "qEZY5RYDDrZv"
      }
    },
    {
      "cell_type": "code",
      "source": [
        "6/2"
      ],
      "metadata": {
        "colab": {
          "base_uri": "https://localhost:8080/"
        },
        "id": "_UWdMiBUDrGJ",
        "outputId": "cb5f8a96-777b-45bd-8693-77d69924b269"
      },
      "execution_count": 36,
      "outputs": [
        {
          "output_type": "execute_result",
          "data": {
            "text/plain": [
              "3.0"
            ]
          },
          "metadata": {},
          "execution_count": 36
        }
      ]
    },
    {
      "cell_type": "code",
      "source": [
        "5/2"
      ],
      "metadata": {
        "colab": {
          "base_uri": "https://localhost:8080/"
        },
        "id": "0-lPT6qHDzBw",
        "outputId": "37a1d98b-3acd-4edd-8be5-4359647e83a4"
      },
      "execution_count": 37,
      "outputs": [
        {
          "output_type": "execute_result",
          "data": {
            "text/plain": [
              "2.5"
            ]
          },
          "metadata": {},
          "execution_count": 37
        }
      ]
    },
    {
      "cell_type": "markdown",
      "source": [
        "To round a number, use a double backslash (//)"
      ],
      "metadata": {
        "id": "2E9dcyciEWAv"
      }
    },
    {
      "cell_type": "code",
      "source": [
        "5//2"
      ],
      "metadata": {
        "colab": {
          "base_uri": "https://localhost:8080/"
        },
        "id": "0QtNXHkfEM9D",
        "outputId": "ac54b45a-e432-421d-d59c-65b0eaba1f03"
      },
      "execution_count": 39,
      "outputs": [
        {
          "output_type": "execute_result",
          "data": {
            "text/plain": [
              "2"
            ]
          },
          "metadata": {},
          "execution_count": 39
        }
      ]
    },
    {
      "cell_type": "code",
      "source": [
        "print(type(5/2), type(5//2))"
      ],
      "metadata": {
        "colab": {
          "base_uri": "https://localhost:8080/"
        },
        "id": "569iFCU1EH9R",
        "outputId": "6b56b382-21f3-4aa1-ca81-7d9d02920e92"
      },
      "execution_count": 38,
      "outputs": [
        {
          "output_type": "stream",
          "name": "stdout",
          "text": [
            "<class 'float'> <class 'int'>\n"
          ]
        }
      ]
    },
    {
      "cell_type": "markdown",
      "source": [
        "Putting a hash (#) after a command, then it will ignore anything after it."
      ],
      "metadata": {
        "id": "-NwqhxsUEaJn"
      }
    },
    {
      "cell_type": "code",
      "source": [
        "2*2"
      ],
      "metadata": {
        "colab": {
          "base_uri": "https://localhost:8080/"
        },
        "id": "dZq4nSgrE2K0",
        "outputId": "2ad383d4-2a60-4d8b-a03f-4c3df47e8e81"
      },
      "execution_count": 40,
      "outputs": [
        {
          "output_type": "execute_result",
          "data": {
            "text/plain": [
              "4"
            ]
          },
          "metadata": {},
          "execution_count": 40
        }
      ]
    },
    {
      "cell_type": "markdown",
      "source": [
        "### Built-in Summary Tools"
      ],
      "metadata": {
        "id": "-0CQHDZxE5ao"
      }
    },
    {
      "cell_type": "code",
      "source": [
        "nums = (3,1,4,2,5)\n",
        "type(nums)"
      ],
      "metadata": {
        "colab": {
          "base_uri": "https://localhost:8080/"
        },
        "id": "0YYm4xyCE38G",
        "outputId": "f52fcd87-d763-4f8a-ad49-5ee1559f3699"
      },
      "execution_count": 44,
      "outputs": [
        {
          "output_type": "execute_result",
          "data": {
            "text/plain": [
              "tuple"
            ]
          },
          "metadata": {},
          "execution_count": 44
        }
      ]
    },
    {
      "cell_type": "code",
      "source": [
        "max(nums)"
      ],
      "metadata": {
        "colab": {
          "base_uri": "https://localhost:8080/"
        },
        "id": "A98ZEErDFFX_",
        "outputId": "76912c9d-8ba6-4982-eb30-1b70be927c63"
      },
      "execution_count": 45,
      "outputs": [
        {
          "output_type": "execute_result",
          "data": {
            "text/plain": [
              "5"
            ]
          },
          "metadata": {},
          "execution_count": 45
        }
      ]
    },
    {
      "cell_type": "code",
      "source": [
        "min(nums)"
      ],
      "metadata": {
        "colab": {
          "base_uri": "https://localhost:8080/"
        },
        "id": "mLa_hsZIFHRY",
        "outputId": "83c031ce-f143-42ed-9923-bbe9f901f92d"
      },
      "execution_count": 46,
      "outputs": [
        {
          "output_type": "execute_result",
          "data": {
            "text/plain": [
              "1"
            ]
          },
          "metadata": {},
          "execution_count": 46
        }
      ]
    },
    {
      "cell_type": "code",
      "source": [
        "pi=3.14159\n",
        "print(pi)"
      ],
      "metadata": {
        "colab": {
          "base_uri": "https://localhost:8080/"
        },
        "id": "F7gQWBITFRT2",
        "outputId": "d63460f9-7010-42c9-ac6e-610e371d5046"
      },
      "execution_count": 47,
      "outputs": [
        {
          "output_type": "stream",
          "name": "stdout",
          "text": [
            "3.14159\n"
          ]
        }
      ]
    },
    {
      "cell_type": "code",
      "source": [
        "round(pi, ndigits=2)"
      ],
      "metadata": {
        "colab": {
          "base_uri": "https://localhost:8080/"
        },
        "id": "uUzl6IZTFWKF",
        "outputId": "e514b936-65e9-4a39-efb0-0dacde2a2bfb"
      },
      "execution_count": 48,
      "outputs": [
        {
          "output_type": "execute_result",
          "data": {
            "text/plain": [
              "3.14"
            ]
          },
          "metadata": {},
          "execution_count": 48
        }
      ]
    },
    {
      "cell_type": "code",
      "source": [
        "round(2.55, ndigits=0)"
      ],
      "metadata": {
        "colab": {
          "base_uri": "https://localhost:8080/"
        },
        "id": "-EAeUHexFfFg",
        "outputId": "ab5588dd-c929-4f47-d170-49f616d3f7d1"
      },
      "execution_count": 49,
      "outputs": [
        {
          "output_type": "execute_result",
          "data": {
            "text/plain": [
              "3.0"
            ]
          },
          "metadata": {},
          "execution_count": 49
        }
      ]
    },
    {
      "cell_type": "markdown",
      "source": [
        "If you don't know what a function does use: \n",
        "```bash\n",
        "help(name_function)\n",
        "```"
      ],
      "metadata": {
        "id": "rI9OS_pkFqc3"
      }
    },
    {
      "cell_type": "code",
      "source": [
        "help(round)"
      ],
      "metadata": {
        "colab": {
          "base_uri": "https://localhost:8080/"
        },
        "id": "D2-L2KK8FoXZ",
        "outputId": "f8ae967b-041e-42df-f997-52d736450a27"
      },
      "execution_count": 51,
      "outputs": [
        {
          "output_type": "stream",
          "name": "stdout",
          "text": [
            "Help on built-in function round in module builtins:\n",
            "\n",
            "round(number, ndigits=None)\n",
            "    Round a number to a given precision in decimal digits.\n",
            "    \n",
            "    The return value is an integer if ndigits is omitted or None.  Otherwise\n",
            "    the return value has the same type as the number.  ndigits may be negative.\n",
            "\n"
          ]
        }
      ]
    }
  ]
}